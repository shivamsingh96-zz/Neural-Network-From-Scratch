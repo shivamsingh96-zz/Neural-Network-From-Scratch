{
 "cells": [
  {
   "cell_type": "code",
   "execution_count": 1,
   "metadata": {},
   "outputs": [],
   "source": [
    "import numpy as np\n",
    "import pandas as pd\n",
    "import matplotlib.pyplot as plt"
   ]
  },
  {
   "cell_type": "code",
   "execution_count": 2,
   "metadata": {},
   "outputs": [],
   "source": [
    "rawdata = pd.read_csv(\"kc_house_data.csv\")"
   ]
  },
  {
   "cell_type": "code",
   "execution_count": 3,
   "metadata": {},
   "outputs": [],
   "source": [
    "ones = pd.DataFrame(np.ones((rawdata.shape[0],1)),columns=[\"bias\"])"
   ]
  },
  {
   "cell_type": "code",
   "execution_count": 4,
   "metadata": {},
   "outputs": [],
   "source": [
    "rawdata = pd.concat([rawdata,ones],axis=1)"
   ]
  },
  {
   "cell_type": "code",
   "execution_count": 5,
   "metadata": {},
   "outputs": [
    {
     "data": {
      "text/plain": [
       "(21613, 22)"
      ]
     },
     "execution_count": 5,
     "metadata": {},
     "output_type": "execute_result"
    }
   ],
   "source": [
    "rawdata.shape"
   ]
  },
  {
   "cell_type": "code",
   "execution_count": 6,
   "metadata": {},
   "outputs": [
    {
     "data": {
      "text/html": [
       "<div>\n",
       "<style scoped>\n",
       "    .dataframe tbody tr th:only-of-type {\n",
       "        vertical-align: middle;\n",
       "    }\n",
       "\n",
       "    .dataframe tbody tr th {\n",
       "        vertical-align: top;\n",
       "    }\n",
       "\n",
       "    .dataframe thead th {\n",
       "        text-align: right;\n",
       "    }\n",
       "</style>\n",
       "<table border=\"1\" class=\"dataframe\">\n",
       "  <thead>\n",
       "    <tr style=\"text-align: right;\">\n",
       "      <th></th>\n",
       "      <th>id</th>\n",
       "      <th>date</th>\n",
       "      <th>price</th>\n",
       "      <th>bedrooms</th>\n",
       "      <th>bathrooms</th>\n",
       "      <th>sqft_living</th>\n",
       "      <th>sqft_lot</th>\n",
       "      <th>floors</th>\n",
       "      <th>waterfront</th>\n",
       "      <th>view</th>\n",
       "      <th>...</th>\n",
       "      <th>sqft_above</th>\n",
       "      <th>sqft_basement</th>\n",
       "      <th>yr_built</th>\n",
       "      <th>yr_renovated</th>\n",
       "      <th>zipcode</th>\n",
       "      <th>lat</th>\n",
       "      <th>long</th>\n",
       "      <th>sqft_living15</th>\n",
       "      <th>sqft_lot15</th>\n",
       "      <th>bias</th>\n",
       "    </tr>\n",
       "  </thead>\n",
       "  <tbody>\n",
       "    <tr>\n",
       "      <th>0</th>\n",
       "      <td>7129300520</td>\n",
       "      <td>20141013T000000</td>\n",
       "      <td>221900.0</td>\n",
       "      <td>3</td>\n",
       "      <td>1.00</td>\n",
       "      <td>1180</td>\n",
       "      <td>5650</td>\n",
       "      <td>1.0</td>\n",
       "      <td>0</td>\n",
       "      <td>0</td>\n",
       "      <td>...</td>\n",
       "      <td>1180</td>\n",
       "      <td>0</td>\n",
       "      <td>1955</td>\n",
       "      <td>0</td>\n",
       "      <td>98178</td>\n",
       "      <td>47.5112</td>\n",
       "      <td>-122.257</td>\n",
       "      <td>1340</td>\n",
       "      <td>5650</td>\n",
       "      <td>1.0</td>\n",
       "    </tr>\n",
       "    <tr>\n",
       "      <th>1</th>\n",
       "      <td>6414100192</td>\n",
       "      <td>20141209T000000</td>\n",
       "      <td>538000.0</td>\n",
       "      <td>3</td>\n",
       "      <td>2.25</td>\n",
       "      <td>2570</td>\n",
       "      <td>7242</td>\n",
       "      <td>2.0</td>\n",
       "      <td>0</td>\n",
       "      <td>0</td>\n",
       "      <td>...</td>\n",
       "      <td>2170</td>\n",
       "      <td>400</td>\n",
       "      <td>1951</td>\n",
       "      <td>1991</td>\n",
       "      <td>98125</td>\n",
       "      <td>47.7210</td>\n",
       "      <td>-122.319</td>\n",
       "      <td>1690</td>\n",
       "      <td>7639</td>\n",
       "      <td>1.0</td>\n",
       "    </tr>\n",
       "    <tr>\n",
       "      <th>2</th>\n",
       "      <td>5631500400</td>\n",
       "      <td>20150225T000000</td>\n",
       "      <td>180000.0</td>\n",
       "      <td>2</td>\n",
       "      <td>1.00</td>\n",
       "      <td>770</td>\n",
       "      <td>10000</td>\n",
       "      <td>1.0</td>\n",
       "      <td>0</td>\n",
       "      <td>0</td>\n",
       "      <td>...</td>\n",
       "      <td>770</td>\n",
       "      <td>0</td>\n",
       "      <td>1933</td>\n",
       "      <td>0</td>\n",
       "      <td>98028</td>\n",
       "      <td>47.7379</td>\n",
       "      <td>-122.233</td>\n",
       "      <td>2720</td>\n",
       "      <td>8062</td>\n",
       "      <td>1.0</td>\n",
       "    </tr>\n",
       "    <tr>\n",
       "      <th>3</th>\n",
       "      <td>2487200875</td>\n",
       "      <td>20141209T000000</td>\n",
       "      <td>604000.0</td>\n",
       "      <td>4</td>\n",
       "      <td>3.00</td>\n",
       "      <td>1960</td>\n",
       "      <td>5000</td>\n",
       "      <td>1.0</td>\n",
       "      <td>0</td>\n",
       "      <td>0</td>\n",
       "      <td>...</td>\n",
       "      <td>1050</td>\n",
       "      <td>910</td>\n",
       "      <td>1965</td>\n",
       "      <td>0</td>\n",
       "      <td>98136</td>\n",
       "      <td>47.5208</td>\n",
       "      <td>-122.393</td>\n",
       "      <td>1360</td>\n",
       "      <td>5000</td>\n",
       "      <td>1.0</td>\n",
       "    </tr>\n",
       "    <tr>\n",
       "      <th>4</th>\n",
       "      <td>1954400510</td>\n",
       "      <td>20150218T000000</td>\n",
       "      <td>510000.0</td>\n",
       "      <td>3</td>\n",
       "      <td>2.00</td>\n",
       "      <td>1680</td>\n",
       "      <td>8080</td>\n",
       "      <td>1.0</td>\n",
       "      <td>0</td>\n",
       "      <td>0</td>\n",
       "      <td>...</td>\n",
       "      <td>1680</td>\n",
       "      <td>0</td>\n",
       "      <td>1987</td>\n",
       "      <td>0</td>\n",
       "      <td>98074</td>\n",
       "      <td>47.6168</td>\n",
       "      <td>-122.045</td>\n",
       "      <td>1800</td>\n",
       "      <td>7503</td>\n",
       "      <td>1.0</td>\n",
       "    </tr>\n",
       "  </tbody>\n",
       "</table>\n",
       "<p>5 rows × 22 columns</p>\n",
       "</div>"
      ],
      "text/plain": [
       "           id             date     price  bedrooms  bathrooms  sqft_living  \\\n",
       "0  7129300520  20141013T000000  221900.0         3       1.00         1180   \n",
       "1  6414100192  20141209T000000  538000.0         3       2.25         2570   \n",
       "2  5631500400  20150225T000000  180000.0         2       1.00          770   \n",
       "3  2487200875  20141209T000000  604000.0         4       3.00         1960   \n",
       "4  1954400510  20150218T000000  510000.0         3       2.00         1680   \n",
       "\n",
       "   sqft_lot  floors  waterfront  view  ...   sqft_above  sqft_basement  \\\n",
       "0      5650     1.0           0     0  ...         1180              0   \n",
       "1      7242     2.0           0     0  ...         2170            400   \n",
       "2     10000     1.0           0     0  ...          770              0   \n",
       "3      5000     1.0           0     0  ...         1050            910   \n",
       "4      8080     1.0           0     0  ...         1680              0   \n",
       "\n",
       "   yr_built  yr_renovated  zipcode      lat     long  sqft_living15  \\\n",
       "0      1955             0    98178  47.5112 -122.257           1340   \n",
       "1      1951          1991    98125  47.7210 -122.319           1690   \n",
       "2      1933             0    98028  47.7379 -122.233           2720   \n",
       "3      1965             0    98136  47.5208 -122.393           1360   \n",
       "4      1987             0    98074  47.6168 -122.045           1800   \n",
       "\n",
       "   sqft_lot15  bias  \n",
       "0        5650   1.0  \n",
       "1        7639   1.0  \n",
       "2        8062   1.0  \n",
       "3        5000   1.0  \n",
       "4        7503   1.0  \n",
       "\n",
       "[5 rows x 22 columns]"
      ]
     },
     "execution_count": 6,
     "metadata": {},
     "output_type": "execute_result"
    }
   ],
   "source": [
    "rawdata.head()"
   ]
  },
  {
   "cell_type": "code",
   "execution_count": 7,
   "metadata": {},
   "outputs": [
    {
     "data": {
      "text/plain": [
       "0        1.0\n",
       "1        1.0\n",
       "2        1.0\n",
       "3        1.0\n",
       "4        1.0\n",
       "5        1.0\n",
       "6        1.0\n",
       "7        1.0\n",
       "8        1.0\n",
       "9        1.0\n",
       "10       1.0\n",
       "11       1.0\n",
       "12       1.0\n",
       "13       1.0\n",
       "14       1.0\n",
       "15       1.0\n",
       "16       1.0\n",
       "17       1.0\n",
       "18       1.0\n",
       "19       1.0\n",
       "20       1.0\n",
       "21       1.0\n",
       "22       1.0\n",
       "23       1.0\n",
       "24       1.0\n",
       "25       1.0\n",
       "26       1.0\n",
       "27       1.0\n",
       "28       1.0\n",
       "29       1.0\n",
       "        ... \n",
       "21583    1.0\n",
       "21584    1.0\n",
       "21585    1.0\n",
       "21586    1.0\n",
       "21587    1.0\n",
       "21588    1.0\n",
       "21589    1.0\n",
       "21590    1.0\n",
       "21591    1.0\n",
       "21592    1.0\n",
       "21593    1.0\n",
       "21594    1.0\n",
       "21595    1.0\n",
       "21596    1.0\n",
       "21597    1.0\n",
       "21598    1.0\n",
       "21599    1.0\n",
       "21600    1.0\n",
       "21601    1.0\n",
       "21602    1.0\n",
       "21603    1.0\n",
       "21604    1.0\n",
       "21605    1.0\n",
       "21606    1.0\n",
       "21607    1.0\n",
       "21608    1.0\n",
       "21609    1.0\n",
       "21610    1.0\n",
       "21611    1.0\n",
       "21612    1.0\n",
       "Name: bias, Length: 21613, dtype: float64"
      ]
     },
     "execution_count": 7,
     "metadata": {},
     "output_type": "execute_result"
    }
   ],
   "source": [
    "rawdata['bias']"
   ]
  },
  {
   "cell_type": "code",
   "execution_count": 8,
   "metadata": {},
   "outputs": [],
   "source": [
    "droppedrawdata = rawdata.drop(['id','date','waterfront','view','yr_built','yr_renovated','zipcode','lat'],axis=1,inplace=False)"
   ]
  },
  {
   "cell_type": "code",
   "execution_count": 9,
   "metadata": {},
   "outputs": [
    {
     "data": {
      "text/html": [
       "<div>\n",
       "<style scoped>\n",
       "    .dataframe tbody tr th:only-of-type {\n",
       "        vertical-align: middle;\n",
       "    }\n",
       "\n",
       "    .dataframe tbody tr th {\n",
       "        vertical-align: top;\n",
       "    }\n",
       "\n",
       "    .dataframe thead th {\n",
       "        text-align: right;\n",
       "    }\n",
       "</style>\n",
       "<table border=\"1\" class=\"dataframe\">\n",
       "  <thead>\n",
       "    <tr style=\"text-align: right;\">\n",
       "      <th></th>\n",
       "      <th>price</th>\n",
       "      <th>bedrooms</th>\n",
       "      <th>bathrooms</th>\n",
       "      <th>sqft_living</th>\n",
       "      <th>sqft_lot</th>\n",
       "      <th>floors</th>\n",
       "      <th>condition</th>\n",
       "      <th>grade</th>\n",
       "      <th>sqft_above</th>\n",
       "      <th>sqft_basement</th>\n",
       "      <th>long</th>\n",
       "      <th>sqft_living15</th>\n",
       "      <th>sqft_lot15</th>\n",
       "      <th>bias</th>\n",
       "    </tr>\n",
       "  </thead>\n",
       "  <tbody>\n",
       "    <tr>\n",
       "      <th>0</th>\n",
       "      <td>221900.0</td>\n",
       "      <td>3</td>\n",
       "      <td>1.00</td>\n",
       "      <td>1180</td>\n",
       "      <td>5650</td>\n",
       "      <td>1.0</td>\n",
       "      <td>3</td>\n",
       "      <td>7</td>\n",
       "      <td>1180</td>\n",
       "      <td>0</td>\n",
       "      <td>-122.257</td>\n",
       "      <td>1340</td>\n",
       "      <td>5650</td>\n",
       "      <td>1.0</td>\n",
       "    </tr>\n",
       "    <tr>\n",
       "      <th>1</th>\n",
       "      <td>538000.0</td>\n",
       "      <td>3</td>\n",
       "      <td>2.25</td>\n",
       "      <td>2570</td>\n",
       "      <td>7242</td>\n",
       "      <td>2.0</td>\n",
       "      <td>3</td>\n",
       "      <td>7</td>\n",
       "      <td>2170</td>\n",
       "      <td>400</td>\n",
       "      <td>-122.319</td>\n",
       "      <td>1690</td>\n",
       "      <td>7639</td>\n",
       "      <td>1.0</td>\n",
       "    </tr>\n",
       "    <tr>\n",
       "      <th>2</th>\n",
       "      <td>180000.0</td>\n",
       "      <td>2</td>\n",
       "      <td>1.00</td>\n",
       "      <td>770</td>\n",
       "      <td>10000</td>\n",
       "      <td>1.0</td>\n",
       "      <td>3</td>\n",
       "      <td>6</td>\n",
       "      <td>770</td>\n",
       "      <td>0</td>\n",
       "      <td>-122.233</td>\n",
       "      <td>2720</td>\n",
       "      <td>8062</td>\n",
       "      <td>1.0</td>\n",
       "    </tr>\n",
       "    <tr>\n",
       "      <th>3</th>\n",
       "      <td>604000.0</td>\n",
       "      <td>4</td>\n",
       "      <td>3.00</td>\n",
       "      <td>1960</td>\n",
       "      <td>5000</td>\n",
       "      <td>1.0</td>\n",
       "      <td>5</td>\n",
       "      <td>7</td>\n",
       "      <td>1050</td>\n",
       "      <td>910</td>\n",
       "      <td>-122.393</td>\n",
       "      <td>1360</td>\n",
       "      <td>5000</td>\n",
       "      <td>1.0</td>\n",
       "    </tr>\n",
       "    <tr>\n",
       "      <th>4</th>\n",
       "      <td>510000.0</td>\n",
       "      <td>3</td>\n",
       "      <td>2.00</td>\n",
       "      <td>1680</td>\n",
       "      <td>8080</td>\n",
       "      <td>1.0</td>\n",
       "      <td>3</td>\n",
       "      <td>8</td>\n",
       "      <td>1680</td>\n",
       "      <td>0</td>\n",
       "      <td>-122.045</td>\n",
       "      <td>1800</td>\n",
       "      <td>7503</td>\n",
       "      <td>1.0</td>\n",
       "    </tr>\n",
       "  </tbody>\n",
       "</table>\n",
       "</div>"
      ],
      "text/plain": [
       "      price  bedrooms  bathrooms  sqft_living  sqft_lot  floors  condition  \\\n",
       "0  221900.0         3       1.00         1180      5650     1.0          3   \n",
       "1  538000.0         3       2.25         2570      7242     2.0          3   \n",
       "2  180000.0         2       1.00          770     10000     1.0          3   \n",
       "3  604000.0         4       3.00         1960      5000     1.0          5   \n",
       "4  510000.0         3       2.00         1680      8080     1.0          3   \n",
       "\n",
       "   grade  sqft_above  sqft_basement     long  sqft_living15  sqft_lot15  bias  \n",
       "0      7        1180              0 -122.257           1340        5650   1.0  \n",
       "1      7        2170            400 -122.319           1690        7639   1.0  \n",
       "2      6         770              0 -122.233           2720        8062   1.0  \n",
       "3      7        1050            910 -122.393           1360        5000   1.0  \n",
       "4      8        1680              0 -122.045           1800        7503   1.0  "
      ]
     },
     "execution_count": 9,
     "metadata": {},
     "output_type": "execute_result"
    }
   ],
   "source": [
    "droppedrawdata.head()"
   ]
  },
  {
   "cell_type": "code",
   "execution_count": 10,
   "metadata": {},
   "outputs": [
    {
     "data": {
      "text/plain": [
       "(21613, 14)"
      ]
     },
     "execution_count": 10,
     "metadata": {},
     "output_type": "execute_result"
    }
   ],
   "source": [
    "droppedrawdata.shape"
   ]
  },
  {
   "cell_type": "code",
   "execution_count": 11,
   "metadata": {},
   "outputs": [],
   "source": [
    "trainingdatasize = int(0.75*droppedrawdata.shape[0])"
   ]
  },
  {
   "cell_type": "code",
   "execution_count": 12,
   "metadata": {},
   "outputs": [
    {
     "data": {
      "text/plain": [
       "16209"
      ]
     },
     "execution_count": 12,
     "metadata": {},
     "output_type": "execute_result"
    }
   ],
   "source": [
    "trainingdatasize"
   ]
  },
  {
   "cell_type": "code",
   "execution_count": 13,
   "metadata": {},
   "outputs": [],
   "source": [
    "trainingdata = droppedrawdata.iloc[0:trainingdatasize,:]"
   ]
  },
  {
   "cell_type": "code",
   "execution_count": 14,
   "metadata": {},
   "outputs": [],
   "source": [
    "trainingdata = np.array(trainingdata)"
   ]
  },
  {
   "cell_type": "code",
   "execution_count": 15,
   "metadata": {},
   "outputs": [],
   "source": [
    "trainingdata = trainingdata/ trainingdata.max(axis = 0)"
   ]
  },
  {
   "cell_type": "code",
   "execution_count": 16,
   "metadata": {},
   "outputs": [],
   "source": [
    "trainingdata = pd.DataFrame(trainingdata)"
   ]
  },
  {
   "cell_type": "code",
   "execution_count": 17,
   "metadata": {},
   "outputs": [],
   "source": [
    "testingdata = droppedrawdata.iloc[trainingdatasize:,:]"
   ]
  },
  {
   "cell_type": "code",
   "execution_count": 18,
   "metadata": {},
   "outputs": [
    {
     "data": {
      "text/plain": [
       "(16209, 14)"
      ]
     },
     "execution_count": 18,
     "metadata": {},
     "output_type": "execute_result"
    }
   ],
   "source": [
    "trainingdata.shape"
   ]
  },
  {
   "cell_type": "code",
   "execution_count": 19,
   "metadata": {},
   "outputs": [
    {
     "data": {
      "text/plain": [
       "(5404, 14)"
      ]
     },
     "execution_count": 19,
     "metadata": {},
     "output_type": "execute_result"
    }
   ],
   "source": [
    "testingdata.shape"
   ]
  },
  {
   "cell_type": "code",
   "execution_count": 20,
   "metadata": {},
   "outputs": [
    {
     "data": {
      "text/html": [
       "<div>\n",
       "<style scoped>\n",
       "    .dataframe tbody tr th:only-of-type {\n",
       "        vertical-align: middle;\n",
       "    }\n",
       "\n",
       "    .dataframe tbody tr th {\n",
       "        vertical-align: top;\n",
       "    }\n",
       "\n",
       "    .dataframe thead th {\n",
       "        text-align: right;\n",
       "    }\n",
       "</style>\n",
       "<table border=\"1\" class=\"dataframe\">\n",
       "  <thead>\n",
       "    <tr style=\"text-align: right;\">\n",
       "      <th></th>\n",
       "      <th>0</th>\n",
       "      <th>1</th>\n",
       "      <th>2</th>\n",
       "      <th>3</th>\n",
       "      <th>4</th>\n",
       "      <th>5</th>\n",
       "      <th>6</th>\n",
       "      <th>7</th>\n",
       "      <th>8</th>\n",
       "      <th>9</th>\n",
       "      <th>10</th>\n",
       "      <th>11</th>\n",
       "      <th>12</th>\n",
       "      <th>13</th>\n",
       "    </tr>\n",
       "  </thead>\n",
       "  <tbody>\n",
       "    <tr>\n",
       "      <th>0</th>\n",
       "      <td>0.028818</td>\n",
       "      <td>0.090909</td>\n",
       "      <td>0.12500</td>\n",
       "      <td>0.087149</td>\n",
       "      <td>0.003421</td>\n",
       "      <td>0.285714</td>\n",
       "      <td>0.6</td>\n",
       "      <td>0.538462</td>\n",
       "      <td>0.125399</td>\n",
       "      <td>0.000000</td>\n",
       "      <td>1.007765</td>\n",
       "      <td>0.219313</td>\n",
       "      <td>0.006485</td>\n",
       "      <td>1.0</td>\n",
       "    </tr>\n",
       "    <tr>\n",
       "      <th>1</th>\n",
       "      <td>0.069870</td>\n",
       "      <td>0.090909</td>\n",
       "      <td>0.28125</td>\n",
       "      <td>0.189808</td>\n",
       "      <td>0.004385</td>\n",
       "      <td>0.571429</td>\n",
       "      <td>0.6</td>\n",
       "      <td>0.538462</td>\n",
       "      <td>0.230606</td>\n",
       "      <td>0.082988</td>\n",
       "      <td>1.008276</td>\n",
       "      <td>0.276596</td>\n",
       "      <td>0.008768</td>\n",
       "      <td>1.0</td>\n",
       "    </tr>\n",
       "    <tr>\n",
       "      <th>2</th>\n",
       "      <td>0.023377</td>\n",
       "      <td>0.060606</td>\n",
       "      <td>0.12500</td>\n",
       "      <td>0.056869</td>\n",
       "      <td>0.006056</td>\n",
       "      <td>0.285714</td>\n",
       "      <td>0.6</td>\n",
       "      <td>0.461538</td>\n",
       "      <td>0.081828</td>\n",
       "      <td>0.000000</td>\n",
       "      <td>1.007567</td>\n",
       "      <td>0.445172</td>\n",
       "      <td>0.009254</td>\n",
       "      <td>1.0</td>\n",
       "    </tr>\n",
       "    <tr>\n",
       "      <th>3</th>\n",
       "      <td>0.078442</td>\n",
       "      <td>0.121212</td>\n",
       "      <td>0.37500</td>\n",
       "      <td>0.144756</td>\n",
       "      <td>0.003028</td>\n",
       "      <td>0.285714</td>\n",
       "      <td>1.0</td>\n",
       "      <td>0.538462</td>\n",
       "      <td>0.111583</td>\n",
       "      <td>0.188797</td>\n",
       "      <td>1.008886</td>\n",
       "      <td>0.222586</td>\n",
       "      <td>0.005739</td>\n",
       "      <td>1.0</td>\n",
       "    </tr>\n",
       "    <tr>\n",
       "      <th>4</th>\n",
       "      <td>0.066234</td>\n",
       "      <td>0.090909</td>\n",
       "      <td>0.25000</td>\n",
       "      <td>0.124077</td>\n",
       "      <td>0.004893</td>\n",
       "      <td>0.285714</td>\n",
       "      <td>0.6</td>\n",
       "      <td>0.615385</td>\n",
       "      <td>0.178533</td>\n",
       "      <td>0.000000</td>\n",
       "      <td>1.006017</td>\n",
       "      <td>0.294599</td>\n",
       "      <td>0.008612</td>\n",
       "      <td>1.0</td>\n",
       "    </tr>\n",
       "  </tbody>\n",
       "</table>\n",
       "</div>"
      ],
      "text/plain": [
       "         0         1        2         3         4         5    6         7   \\\n",
       "0  0.028818  0.090909  0.12500  0.087149  0.003421  0.285714  0.6  0.538462   \n",
       "1  0.069870  0.090909  0.28125  0.189808  0.004385  0.571429  0.6  0.538462   \n",
       "2  0.023377  0.060606  0.12500  0.056869  0.006056  0.285714  0.6  0.461538   \n",
       "3  0.078442  0.121212  0.37500  0.144756  0.003028  0.285714  1.0  0.538462   \n",
       "4  0.066234  0.090909  0.25000  0.124077  0.004893  0.285714  0.6  0.615385   \n",
       "\n",
       "         8         9         10        11        12   13  \n",
       "0  0.125399  0.000000  1.007765  0.219313  0.006485  1.0  \n",
       "1  0.230606  0.082988  1.008276  0.276596  0.008768  1.0  \n",
       "2  0.081828  0.000000  1.007567  0.445172  0.009254  1.0  \n",
       "3  0.111583  0.188797  1.008886  0.222586  0.005739  1.0  \n",
       "4  0.178533  0.000000  1.006017  0.294599  0.008612  1.0  "
      ]
     },
     "execution_count": 20,
     "metadata": {},
     "output_type": "execute_result"
    }
   ],
   "source": [
    "trainingdata.head()"
   ]
  },
  {
   "cell_type": "code",
   "execution_count": 21,
   "metadata": {},
   "outputs": [],
   "source": [
    "labels = trainingdata[0] #price column = 0"
   ]
  },
  {
   "cell_type": "code",
   "execution_count": 22,
   "metadata": {},
   "outputs": [],
   "source": [
    "inputtrainingdata = trainingdata.drop([0],axis=1,inplace=False)"
   ]
  },
  {
   "cell_type": "code",
   "execution_count": 23,
   "metadata": {},
   "outputs": [
    {
     "data": {
      "text/plain": [
       "(16209, 13)"
      ]
     },
     "execution_count": 23,
     "metadata": {},
     "output_type": "execute_result"
    }
   ],
   "source": [
    "inputtrainingdata.shape"
   ]
  },
  {
   "cell_type": "code",
   "execution_count": 24,
   "metadata": {},
   "outputs": [
    {
     "data": {
      "text/html": [
       "<div>\n",
       "<style scoped>\n",
       "    .dataframe tbody tr th:only-of-type {\n",
       "        vertical-align: middle;\n",
       "    }\n",
       "\n",
       "    .dataframe tbody tr th {\n",
       "        vertical-align: top;\n",
       "    }\n",
       "\n",
       "    .dataframe thead th {\n",
       "        text-align: right;\n",
       "    }\n",
       "</style>\n",
       "<table border=\"1\" class=\"dataframe\">\n",
       "  <thead>\n",
       "    <tr style=\"text-align: right;\">\n",
       "      <th></th>\n",
       "      <th>1</th>\n",
       "      <th>2</th>\n",
       "      <th>3</th>\n",
       "      <th>4</th>\n",
       "      <th>5</th>\n",
       "      <th>6</th>\n",
       "      <th>7</th>\n",
       "      <th>8</th>\n",
       "      <th>9</th>\n",
       "      <th>10</th>\n",
       "      <th>11</th>\n",
       "      <th>12</th>\n",
       "      <th>13</th>\n",
       "    </tr>\n",
       "  </thead>\n",
       "  <tbody>\n",
       "    <tr>\n",
       "      <th>0</th>\n",
       "      <td>0.090909</td>\n",
       "      <td>0.12500</td>\n",
       "      <td>0.087149</td>\n",
       "      <td>0.003421</td>\n",
       "      <td>0.285714</td>\n",
       "      <td>0.6</td>\n",
       "      <td>0.538462</td>\n",
       "      <td>0.125399</td>\n",
       "      <td>0.000000</td>\n",
       "      <td>1.007765</td>\n",
       "      <td>0.219313</td>\n",
       "      <td>0.006485</td>\n",
       "      <td>1.0</td>\n",
       "    </tr>\n",
       "    <tr>\n",
       "      <th>1</th>\n",
       "      <td>0.090909</td>\n",
       "      <td>0.28125</td>\n",
       "      <td>0.189808</td>\n",
       "      <td>0.004385</td>\n",
       "      <td>0.571429</td>\n",
       "      <td>0.6</td>\n",
       "      <td>0.538462</td>\n",
       "      <td>0.230606</td>\n",
       "      <td>0.082988</td>\n",
       "      <td>1.008276</td>\n",
       "      <td>0.276596</td>\n",
       "      <td>0.008768</td>\n",
       "      <td>1.0</td>\n",
       "    </tr>\n",
       "    <tr>\n",
       "      <th>2</th>\n",
       "      <td>0.060606</td>\n",
       "      <td>0.12500</td>\n",
       "      <td>0.056869</td>\n",
       "      <td>0.006056</td>\n",
       "      <td>0.285714</td>\n",
       "      <td>0.6</td>\n",
       "      <td>0.461538</td>\n",
       "      <td>0.081828</td>\n",
       "      <td>0.000000</td>\n",
       "      <td>1.007567</td>\n",
       "      <td>0.445172</td>\n",
       "      <td>0.009254</td>\n",
       "      <td>1.0</td>\n",
       "    </tr>\n",
       "    <tr>\n",
       "      <th>3</th>\n",
       "      <td>0.121212</td>\n",
       "      <td>0.37500</td>\n",
       "      <td>0.144756</td>\n",
       "      <td>0.003028</td>\n",
       "      <td>0.285714</td>\n",
       "      <td>1.0</td>\n",
       "      <td>0.538462</td>\n",
       "      <td>0.111583</td>\n",
       "      <td>0.188797</td>\n",
       "      <td>1.008886</td>\n",
       "      <td>0.222586</td>\n",
       "      <td>0.005739</td>\n",
       "      <td>1.0</td>\n",
       "    </tr>\n",
       "    <tr>\n",
       "      <th>4</th>\n",
       "      <td>0.090909</td>\n",
       "      <td>0.25000</td>\n",
       "      <td>0.124077</td>\n",
       "      <td>0.004893</td>\n",
       "      <td>0.285714</td>\n",
       "      <td>0.6</td>\n",
       "      <td>0.615385</td>\n",
       "      <td>0.178533</td>\n",
       "      <td>0.000000</td>\n",
       "      <td>1.006017</td>\n",
       "      <td>0.294599</td>\n",
       "      <td>0.008612</td>\n",
       "      <td>1.0</td>\n",
       "    </tr>\n",
       "  </tbody>\n",
       "</table>\n",
       "</div>"
      ],
      "text/plain": [
       "         1        2         3         4         5    6         7         8   \\\n",
       "0  0.090909  0.12500  0.087149  0.003421  0.285714  0.6  0.538462  0.125399   \n",
       "1  0.090909  0.28125  0.189808  0.004385  0.571429  0.6  0.538462  0.230606   \n",
       "2  0.060606  0.12500  0.056869  0.006056  0.285714  0.6  0.461538  0.081828   \n",
       "3  0.121212  0.37500  0.144756  0.003028  0.285714  1.0  0.538462  0.111583   \n",
       "4  0.090909  0.25000  0.124077  0.004893  0.285714  0.6  0.615385  0.178533   \n",
       "\n",
       "         9         10        11        12   13  \n",
       "0  0.000000  1.007765  0.219313  0.006485  1.0  \n",
       "1  0.082988  1.008276  0.276596  0.008768  1.0  \n",
       "2  0.000000  1.007567  0.445172  0.009254  1.0  \n",
       "3  0.188797  1.008886  0.222586  0.005739  1.0  \n",
       "4  0.000000  1.006017  0.294599  0.008612  1.0  "
      ]
     },
     "execution_count": 24,
     "metadata": {},
     "output_type": "execute_result"
    }
   ],
   "source": [
    "inputtrainingdata.head()"
   ]
  },
  {
   "cell_type": "markdown",
   "metadata": {},
   "source": [
    "We are going to create a Neural Network having two hidden layers and 0th Layer consists of 12 dimensional feature vector. 1st Layer(1st Hidden Layer) consists of 12 neurons. 2nd Layer(2nd Hidden Layer) consists of 12 neurons. The output layer(3rd Layer) consists of a single neuron outputting the result of the prediction.   "
   ]
  },
  {
   "cell_type": "markdown",
   "metadata": {},
   "source": [
    "As there are 12 neurons in the first layer of the neural network and Each neuron in the first hidden layer is accepting Activations from all the neurons of the input layer(values of a 12 dimensional feature vector which we are going to name as 'Activations1' in our code). So, for each neuron in the first hidden layer, we will be having 12 synaptic weights. Therefore, if we put the synaptic weights of received activations of one neuron in first hidden layer vertically (a column) and stack them up horizontally from left to right, we get synaptic weight matrix of 12X12. We are going to name that matrix as 'Theta1old' in our code. So, our matrix is going to be: \n",
    "\n",
    "$\\theta^{[1]}_{old} = \\begin{bmatrix}\\theta^{[1]}_{0 old} & \\theta^{[1]}_{1 old}\\cdots & \\theta^{[1]}_{j old}\\cdots & \\theta^{[1]}_{11 old}\\end{bmatrix}$\n",
    "\n",
    "Where, \n",
    "\n",
    "$\\theta^{[1]}_{j old} = \\begin{bmatrix}\\theta^{[1]}_{0j old} \\\\ \\theta^{[1]}_{1j old} \\\\ \\theta^{[1]}_{2j old} \\\\ \\theta^{[1]}_{3j old} \\\\ \\theta^{[1]}_{4j old} \\\\ \\theta^{[1]}_{5j old} \\\\ \\theta^{[1]}_{6j old} \\\\ \\theta^{[1]}_{7j old} \\\\ \\theta^{[1]}_{8j old} \\\\ \\theta^{[1]}_{9j old} \\\\ \\theta^{[1]}_{10j old} \\\\ \\theta^{[1]}_{11j old}\\end{bmatrix}$\n",
    "\n",
    "for any jth neuron in the first hidden layer, [1] \n",
    "\n",
    "Therefore, \n",
    "\n",
    "$\\theta^{[1]}_{old} = \\begin{bmatrix}\\theta^{[1]}_{0 old} & \\theta^{[1]}_{1 old}\\cdots & \\theta^{[1]}_{j old}\\cdots & \\theta^{[1]}_{11 old}\\end{bmatrix} = \\begin{bmatrix}\\theta^{[1]}_{00 old} & \\theta^{[1]}_{01 old}\\cdots & \\theta^{[1]}_{0jold}\\cdots & \\theta^{[1]}_{011 old} \\\\ \\theta^{[1]}_{10 old} \\\\ \\theta^{[1]}_{i0 old} \\\\ \\cdots \\\\ \\theta^{[1]}_{110 old} & \\theta^{[1]}_{111 old} & \\cdots & \\theta^{[1]}_{11j old} \\cdots & \\theta^{[1]}_{1111 old}\\end{bmatrix}$"
   ]
  },
  {
   "cell_type": "code",
   "execution_count": 25,
   "metadata": {},
   "outputs": [],
   "source": [
    "def Activationfunction(x):\n",
    "    \n",
    "    return x"
   ]
  },
  {
   "cell_type": "code",
   "execution_count": 26,
   "metadata": {},
   "outputs": [],
   "source": [
    "def ForwardpassActivations(featurevector,thetas):\n",
    "    \n",
    "    Activations1 = Activationfunction(np.matmul(featurevector,thetas[0]))\n",
    "    Activations2 = Activationfunction(np.matmul(Activations1,thetas[1]))\n",
    "    Activation3op = Activationfunction(np.matmul(Activations2,thetas[2]))\n",
    "    \n",
    "    return [featurevector,Activations1,Activations2,Activation3op]"
   ]
  },
  {
   "cell_type": "code",
   "execution_count": 27,
   "metadata": {},
   "outputs": [],
   "source": [
    "Theta1old = np.random.randn(13,inputtrainingdata.shape[1])\n",
    "Theta2old = np.random.randn(13,13)\n",
    "Theta3old = np.random.randn(13,1)\n",
    "\n",
    "Layer0ActivationsHistory = np.zeros((13,1))\n",
    "Layer1ActivationsHistory = np.zeros((13,1))\n",
    "Layer2ActivationsHistory = np.zeros((13,1))\n",
    "Layer3ActivationsHistory = np.zeros((1,1))\n",
    "\n",
    "Lossfunctionvalues = []\n",
    "iterations = []\n",
    "\n",
    "alpha = 0.00001\n",
    "batchsize = 500\n",
    "epochs = 10000\n",
    "\n",
    "for i in range(0,epochs):\n",
    "    \n",
    "    thetasold = [Theta1old,Theta2old,Theta3old]\n",
    "    \n",
    "    batchindices = np.random.randint(low=0,high=trainingdatasize,size=batchsize)\n",
    "    inputdatainepoch = np.array(inputtrainingdata.iloc[batchindices])\n",
    "    Forwardpassresults = ForwardpassActivations(inputdatainepoch,thetasold)\n",
    "    \n",
    "    #print(Forwardpassresults[0].shape,Forwardpassresults[1].shape,Forwardpassresults[2].shape,Forwardpassresults[3].shape)\n",
    "    \n",
    "    Error = Forwardpassresults[3] - np.array(labels[batchindices])\n",
    "    Lossfunctionvalue = 0.5*np.mean((Error**2))\n",
    "    bproperror = np.mean(Error)\n",
    "    \n",
    "    Lossfunctionvalues.append(Lossfunctionvalue)\n",
    "    iterations.append((i+1))\n",
    "    \n",
    "    #print(Lossfunctionvalue)\n",
    "    \n",
    "    Delforward1 = np.mean(Forwardpassresults[0],axis=0)\n",
    "    Delforward2 = np.mean(Forwardpassresults[1],axis=0)\n",
    "    Delforward3 = np.mean(Forwardpassresults[2],axis=0)\n",
    "    \n",
    "    Delforward1 = Delforward1.reshape(13,1)\n",
    "    Delforward2 = Delforward2.reshape(13,1)\n",
    "    Delforward3 = Delforward3.reshape(13,1)\n",
    "    #print(Delforward1.shape,Delforward2.shape,Delforward3.shape)\n",
    "    #print(Theta3old.shape,Delreverse3.shape,Delreverse3)\n",
    "    \n",
    "    Layer0ActivationsHistory = np.concatenate((Layer0ActivationsHistory,Delforward1),axis=1)\n",
    "    Layer1ActivationsHistory = np.concatenate((Layer1ActivationsHistory,Delforward2),axis=1)\n",
    "    Layer2ActivationsHistory = np.concatenate((Layer2ActivationsHistory,Delforward3),axis=1)\n",
    "    Layer3ActivationsHistory = np.concatenate((Layer3ActivationsHistory,Forwardpassresults[3]))\n",
    "    \n",
    "    Delreverse3 = bproperror\n",
    "    Delreverse3 = Delreverse3.reshape(1,1)\n",
    "    #print(Delreverse3)\n",
    "    Delreverse2 = np.matmul(Theta3old,Delreverse3)\n",
    "    #Delreverse2 = Theta3old*Delreverse3\n",
    "    Delreverse1 = np.matmul(Theta2old,Delreverse2)\n",
    "    \n",
    "    #print([Delreverse3.shape,Delforward3.shape], [Delreverse2.shape,Delforward2.shape], [Delreverse1.shape,Delforward1.shape])\n",
    "    \n",
    "    #Delforward3 = Delforward3.reshape(13,1)\n",
    "    #Delreverse3 = Delreverse3.reshape(1,1)\n",
    "    \n",
    "    Theta3new = Theta3old - alpha*(np.matmul(Delforward3,Delreverse3))\n",
    "    Theta2new = Theta2old - alpha*(np.matmul(Delreverse2,Delforward2.T))\n",
    "    Theta1new = Theta1old - alpha*(np.matmul(Delreverse1,Delforward1.T))\n",
    "    \n",
    "    Theta1old = Theta1new\n",
    "    Theta2old = Theta2new\n",
    "    Theta3old = Theta3new\n",
    "    \n",
    "    #print(\"The value of the Loss Function at iteration number {} is {}\".format((i+1),Lossfunctionvalue))"
   ]
  },
  {
   "cell_type": "code",
   "execution_count": 28,
   "metadata": {},
   "outputs": [
    {
     "data": {
      "text/plain": [
       "[<matplotlib.lines.Line2D at 0x29793e9ad30>]"
      ]
     },
     "execution_count": 28,
     "metadata": {},
     "output_type": "execute_result"
    },
    {
     "data": {
      "image/png": "[encoded data removed]",
      "text/plain": [
       "<Figure size 432x288 with 1 Axes>"
      ]
     },
     "metadata": {
      "needs_background": "light"
     },
     "output_type": "display_data"
    }
   ],
   "source": [
    "plt.plot(iterations,Lossfunctionvalues)"
   ]
  },
  {
   "cell_type": "code",
   "execution_count": 29,
   "metadata": {},
   "outputs": [
    {
     "name": "stdout",
     "output_type": "stream",
     "text": [
      "The value of the Loss Function at iteration number 10000 is 11.277328005297973\n"
     ]
    }
   ],
   "source": [
    "print(\"The value of the Loss Function at iteration number {} is {}\".format((i+1),Lossfunctionvalue))"
   ]
  },
  {
   "cell_type": "code",
   "execution_count": 30,
   "metadata": {},
   "outputs": [
    {
     "data": {
      "text/plain": [
       "8.372167379624733"
      ]
     },
     "execution_count": 30,
     "metadata": {},
     "output_type": "execute_result"
    }
   ],
   "source": [
    "min(Lossfunctionvalues)"
   ]
  },
  {
   "cell_type": "code",
   "execution_count": 31,
   "metadata": {},
   "outputs": [],
   "source": [
    "Error = np.sqrt(min(Lossfunctionvalues))"
   ]
  },
  {
   "cell_type": "code",
   "execution_count": 32,
   "metadata": {},
   "outputs": [
    {
     "data": {
      "text/plain": [
       "2.893469782047971"
      ]
     },
     "execution_count": 32,
     "metadata": {},
     "output_type": "execute_result"
    }
   ],
   "source": [
    "Error"
   ]
  },
  {
   "cell_type": "code",
   "execution_count": 33,
   "metadata": {},
   "outputs": [
    {
     "data": {
      "text/plain": [
       "[array([[ 1.249438  ,  0.00855146, -1.01501261, -0.5236753 ,  0.56609658,\n",
       "         -0.68330757, -0.34899863,  0.02280163, -0.17864635, -0.12867289,\n",
       "          1.21599533,  1.05516962, -0.25448688],\n",
       "        [ 0.94422267,  1.07336603, -0.46583942, -0.33881499,  0.7990008 ,\n",
       "          0.17632087,  2.21579455,  1.41446336,  1.62438127,  1.46728778,\n",
       "          0.26370056,  0.12136801,  0.63054835],\n",
       "        [ 0.71316387,  0.71591828,  0.19335504, -0.98009024, -0.09160855,\n",
       "          0.14409053, -0.48369169, -0.56789988,  0.75941755,  0.91925251,\n",
       "          0.98663112,  1.11880893, -0.39244328],\n",
       "        [ 0.0976944 , -1.59667129, -1.32082483, -0.17077202,  0.27761417,\n",
       "         -1.16376085, -0.79372697, -1.81513487, -0.40017915,  1.27124007,\n",
       "         -1.70410569,  0.58722297, -0.15188021],\n",
       "        [-1.32955805,  1.7908277 , -0.13220892, -1.35568733, -0.10738079,\n",
       "          1.60185435, -1.02834615, -1.8711435 , -1.3482964 ,  0.45449074,\n",
       "         -0.93211693,  0.2402589 ,  0.14181514],\n",
       "        [-0.51418454,  0.95270309,  0.23278045,  1.84434213, -0.37654314,\n",
       "         -1.91209199,  0.8372286 , -0.17948487,  0.15382351, -0.58628809,\n",
       "         -0.23128859, -1.29413848, -0.91871527],\n",
       "        [ 1.06475654, -0.25222517, -1.65387725,  0.59903431, -0.64586655,\n",
       "          0.68775212, -0.01778052,  2.83831433,  0.75879626,  0.74176919,\n",
       "          0.7305119 ,  1.00580733, -0.13583819],\n",
       "        [-1.37945757,  0.73920905, -2.23149322, -0.21832814, -0.59451748,\n",
       "         -1.05935723,  0.00412925,  0.59180961, -1.54401505, -1.74358206,\n",
       "          0.31044671, -1.53268931, -0.49211943],\n",
       "        [-0.74268104, -0.89386069,  0.69610974,  1.23619124,  0.01407249,\n",
       "         -0.68428413, -0.02236685,  0.40957092, -0.92794719, -1.5090105 ,\n",
       "          1.53225737,  1.62719039, -1.93512182],\n",
       "        [ 1.46748217,  0.3474712 ,  0.48722082,  0.463199  ,  2.27189489,\n",
       "         -0.32102823, -0.0040234 ,  0.85252212,  0.4100299 ,  0.1205186 ,\n",
       "          0.60313528, -0.78306182, -1.91013691],\n",
       "        [ 0.25312573,  0.43510141, -0.85984783,  0.80688221, -1.85623076,\n",
       "          1.98705526, -1.87637732, -1.14485431, -2.14257742, -1.41498511,\n",
       "          0.96504281, -0.2937622 ,  0.12939009],\n",
       "        [-0.8733247 ,  0.44459405,  0.48921838, -1.25772184, -1.25272836,\n",
       "          0.10907108, -1.1081438 , -0.52565125,  2.37283849,  0.17640773,\n",
       "          0.10082617,  0.70796146, -0.3525102 ],\n",
       "        [ 0.11599751, -0.23191687,  0.70653654, -2.11112295,  0.33300876,\n",
       "         -0.29653967,  0.4077584 ,  0.57996485,  1.64721346,  1.46632124,\n",
       "         -0.74811215,  1.59628333,  0.41645408]]),\n",
       " array([[-1.62817071, -0.0846131 , -0.90661763,  0.20055945, -0.58065428,\n",
       "          0.53426227, -0.06955349, -1.32180516, -1.64777294, -0.21973983,\n",
       "         -0.26999193,  0.35025929,  1.65955079],\n",
       "        [-2.28344908, -0.03871448,  0.32666551,  1.74955005,  0.46497485,\n",
       "         -0.6817526 , -0.26221324,  2.18970995, -0.76078644,  1.60109759,\n",
       "          0.95019897,  1.75091933,  0.42571487],\n",
       "        [-0.45301722,  0.37971468,  0.24394267,  0.06061846, -1.00823058,\n",
       "          0.3018656 , -0.0615505 , -1.25265216, -0.73814063, -3.00861852,\n",
       "         -0.54651006,  0.65682526, -0.7500852 ],\n",
       "        [ 0.00748239,  1.09599229, -0.62520473, -0.21169275,  0.24927784,\n",
       "         -0.31824515, -1.81657206,  1.15397904, -1.19964918, -0.59586942,\n",
       "         -0.69314328, -0.04760511, -0.39801471],\n",
       "        [ 1.29573709, -1.20350458,  0.2771418 ,  1.42568271,  0.4636212 ,\n",
       "         -0.81027663, -0.3142663 ,  1.97695123,  0.88385221,  0.63397402,\n",
       "          0.74645273,  0.64225127, -0.00569634],\n",
       "        [-0.19679091,  2.56171932,  0.25145376,  1.70669529,  1.33852601,\n",
       "         -0.74069365, -2.61947824, -1.16333243,  0.65212479,  2.14444435,\n",
       "         -1.92626902,  0.54881296,  0.15131502],\n",
       "        [ 0.31369599, -0.29248121, -0.09065787,  0.56289801, -0.22538469,\n",
       "         -0.72581307,  3.04187485, -1.091444  , -0.68607898, -0.71947315,\n",
       "         -0.89408766, -0.13516837, -0.05949737],\n",
       "        [-0.11090514, -0.66162818, -1.9213718 , -0.65840489, -1.17391377,\n",
       "         -1.28078783, -0.37329686, -0.43449753, -1.3233397 , -0.64843393,\n",
       "         -1.644281  ,  0.35101177, -0.36182954],\n",
       "        [ 0.97188517, -0.01190086, -1.66861131, -0.68742807, -0.34492497,\n",
       "         -1.38292881,  0.0599005 , -0.51249075,  0.08294224,  0.14948394,\n",
       "          0.58198524, -0.43457173, -1.60039336],\n",
       "        [-1.67478339,  0.29286521,  0.11817594,  0.43216738, -0.44031446,\n",
       "         -0.86351095, -1.35269231,  0.04803893, -1.32358291, -0.67644576,\n",
       "         -0.15986402, -1.31221855,  0.53695323],\n",
       "        [-0.33566692, -0.34762957, -1.38992525,  0.11738515,  1.65686332,\n",
       "         -0.70569553,  0.09019334,  0.61309031,  0.62488408,  0.183021  ,\n",
       "          0.16546798, -0.13739047, -1.49146679],\n",
       "        [ 1.33140172, -0.29255218,  0.35085382,  1.0281188 ,  1.19944746,\n",
       "          0.86187891, -0.94989554,  0.06211789,  0.85238708,  1.04302822,\n",
       "         -2.12654439,  2.36241346,  0.8486283 ],\n",
       "        [ 0.15843149,  0.57557369,  1.31390077,  1.78496217,  0.60825108,\n",
       "         -0.11698052, -0.47741649,  0.6767807 , -2.34795054, -0.68275721,\n",
       "         -0.74459433,  0.68366785,  2.21645432]]),\n",
       " array([[ 0.88923813],\n",
       "        [ 0.24290163],\n",
       "        [-1.22272643],\n",
       "        [-1.42926866],\n",
       "        [ 0.3246562 ],\n",
       "        [-0.59992206],\n",
       "        [-0.34338058],\n",
       "        [ 0.38437928],\n",
       "        [ 1.46573014],\n",
       "        [-0.53786012],\n",
       "        [-1.90720762],\n",
       "        [-0.7827127 ],\n",
       "        [ 0.65079605]])]"
      ]
     },
     "execution_count": 33,
     "metadata": {},
     "output_type": "execute_result"
    }
   ],
   "source": [
    "thetasold"
   ]
  },
  {
   "cell_type": "code",
   "execution_count": 34,
   "metadata": {},
   "outputs": [
    {
     "data": {
      "image/png": "[encoded data removed]",
      "text/plain": [
       "<Figure size 720x720 with 52 Axes>"
      ]
     },
     "metadata": {
      "needs_background": "light"
     },
     "output_type": "display_data"
    }
   ],
   "source": [
    "Fig,Axes = plt.subplots(nrows=13,ncols=4,sharex=False,sharey=False,figsize=(10,10))"
   ]
  },
  {
   "cell_type": "code",
   "execution_count": 35,
   "metadata": {},
   "outputs": [],
   "source": [
    "LayerActivationsHistory = [Layer0ActivationsHistory,Layer1ActivationsHistory,Layer2ActivationsHistory,Layer3ActivationsHistory]"
   ]
  },
  {
   "cell_type": "code",
   "execution_count": 36,
   "metadata": {},
   "outputs": [
    {
     "ename": "SyntaxError",
     "evalue": "unexpected EOF while parsing (<ipython-input-36-90e3f8048557>, line 5)",
     "output_type": "error",
     "traceback": [
      "\u001b[1;36m  File \u001b[1;32m\"<ipython-input-36-90e3f8048557>\"\u001b[1;36m, line \u001b[1;32m5\u001b[0m\n\u001b[1;33m    #Axes[i,j].hist(LayerActivationsHistory[j][i,:])\u001b[0m\n\u001b[1;37m                                                    ^\u001b[0m\n\u001b[1;31mSyntaxError\u001b[0m\u001b[1;31m:\u001b[0m unexpected EOF while parsing\n"
     ]
    }
   ],
   "source": [
    "for j in range(0,3):\n",
    "    \n",
    "    for i in range(0,13):\n",
    "        \n",
    "        #Axes[i,j].hist(LayerActivationsHistory[j][i,:])"
   ]
  },
  {
   "cell_type": "code",
   "execution_count": null,
   "metadata": {},
   "outputs": [],
   "source": [
    "Axes[6,3].hist(LayerActivationsHistory[3])"
   ]
  },
  {
   "cell_type": "code",
   "execution_count": null,
   "metadata": {},
   "outputs": [],
   "source": [
    "plt.show()"
   ]
  },
  {
   "cell_type": "code",
   "execution_count": null,
   "metadata": {},
   "outputs": [],
   "source": [
    "Axes"
   ]
  },
  {
   "cell_type": "code",
   "execution_count": null,
   "metadata": {},
   "outputs": [],
   "source": [
    "Axes.shape"
   ]
  },
  {
   "cell_type": "code",
   "execution_count": null,
   "metadata": {},
   "outputs": [],
   "source": [
    "from matplotlib.gridspec import GridSpec\n",
    "plt.style.use('seaborn-whitegrid')\n",
    "figr = plt.figure()\n",
    "plt.rcParams['figure.figsize']=[15,10]\n",
    "gridSpecification = GridSpec(9,9)\n",
    "hist1 = figr.add_subplot(gridSpecification[0:3,0:3])\n",
    "hist2 = figr.add_subplot(gridSpecification[3:6,0:3])\n",
    "hist3 = figr.add_subplot(gridSpecification[6:9,0:3])\n",
    "hist4 = figr.add_subplot(gridSpecification[0:3,3:6])\n",
    "hist5 = figr.add_subplot(gridSpecification[3:6,3:6])\n",
    "hist6 = figr.add_subplot(gridSpecification[6:9,3:6])\n",
    "hist7 = figr.add_subplot(gridSpecification[0:3,6:9])\n",
    "hist8 = figr.add_subplot(gridSpecification[3:6,6:9])\n",
    "hist9 = figr.add_subplot(gridSpecification[6:9,6:9])\n",
    "\n",
    "hist1.hist(LayerActivationsHistory[0][0,:])\n",
    "hist2.hist(LayerActivationsHistory[1][0,:])\n",
    "hist3.hist(LayerActivationsHistory[2][0,:])\n",
    "hist4.hist(LayerActivationsHistory[0][1,:])\n",
    "hist5.hist(LayerActivationsHistory[1][1,:])\n",
    "hist6.hist(LayerActivationsHistory[2][1,:])\n",
    "hist7.hist(LayerActivationsHistory[0][2,:])\n",
    "hist8.hist(LayerActivationsHistory[1][2,:])\n",
    "hist9.hist(LayerActivationsHistory[2][2,:])\n",
    "\n",
    "plt.show()"
   ]
  },
  {
   "cell_type": "code",
   "execution_count": null,
   "metadata": {},
   "outputs": [],
   "source": [
    "plt.hist(LayerActivationsHistory[0][0,:])"
   ]
  },
  {
   "cell_type": "code",
   "execution_count": null,
   "metadata": {},
   "outputs": [],
   "source": [
    "plt.hist(LayerActivationsHistory[1][0,:])"
   ]
  },
  {
   "cell_type": "code",
   "execution_count": null,
   "metadata": {},
   "outputs": [],
   "source": [
    "plt.hist(LayerActivationsHistory[2][0,:])"
   ]
  },
  {
   "cell_type": "code",
   "execution_count": null,
   "metadata": {},
   "outputs": [],
   "source": [
    "plt.hist(LayerActivationsHistory[0][1,:])"
   ]
  },
  {
   "cell_type": "code",
   "execution_count": null,
   "metadata": {},
   "outputs": [],
   "source": [
    "plt.hist(LayerActivationsHistory[1][1,:])"
   ]
  },
  {
   "cell_type": "code",
   "execution_count": null,
   "metadata": {},
   "outputs": [],
   "source": [
    "plt.hist(LayerActivationsHistory[2][1,:])"
   ]
  },
  {
   "cell_type": "code",
   "execution_count": null,
   "metadata": {},
   "outputs": [],
   "source": [
    "plt.hist(LayerActivationsHistory[0][2,:])"
   ]
  },
  {
   "cell_type": "code",
   "execution_count": null,
   "metadata": {},
   "outputs": [],
   "source": [
    "plt.hist(LayerActivationsHistory[1][2,:])"
   ]
  },
  {
   "cell_type": "code",
   "execution_count": null,
   "metadata": {},
   "outputs": [],
   "source": [
    "plt.hist(LayerActivationsHistory[2][2,:])"
   ]
  },
  {
   "cell_type": "code",
   "execution_count": null,
   "metadata": {},
   "outputs": [],
   "source": [
    "plt.hist(LayerActivationsHistory[0][3,:])"
   ]
  },
  {
   "cell_type": "code",
   "execution_count": null,
   "metadata": {},
   "outputs": [],
   "source": [
    "plt.hist(LayerActivationsHistory[1][3,:])"
   ]
  },
  {
   "cell_type": "code",
   "execution_count": null,
   "metadata": {},
   "outputs": [],
   "source": [
    "plt.hist(LayerActivationsHistory[2][3,:])"
   ]
  },
  {
   "cell_type": "code",
   "execution_count": null,
   "metadata": {},
   "outputs": [],
   "source": [
    "plt.hist(LayerActivationsHistory[0][4,:])"
   ]
  },
  {
   "cell_type": "code",
   "execution_count": null,
   "metadata": {},
   "outputs": [],
   "source": [
    "plt.hist(LayerActivationsHistory[1][4,:])"
   ]
  },
  {
   "cell_type": "code",
   "execution_count": null,
   "metadata": {},
   "outputs": [],
   "source": [
    "plt.hist(LayerActivationsHistory[2][4,:])"
   ]
  },
  {
   "cell_type": "code",
   "execution_count": null,
   "metadata": {},
   "outputs": [],
   "source": [
    "plt.hist(LayerActivationsHistory[0][5,:])"
   ]
  },
  {
   "cell_type": "code",
   "execution_count": null,
   "metadata": {},
   "outputs": [],
   "source": [
    "plt.hist(LayerActivationsHistory[1][5,:])"
   ]
  },
  {
   "cell_type": "code",
   "execution_count": null,
   "metadata": {},
   "outputs": [],
   "source": [
    "plt.hist(LayerActivationsHistory[2][5,:])"
   ]
  },
  {
   "cell_type": "code",
   "execution_count": null,
   "metadata": {},
   "outputs": [],
   "source": [
    "plt.hist(LayerActivationsHistory[0][6,:])"
   ]
  },
  {
   "cell_type": "code",
   "execution_count": null,
   "metadata": {},
   "outputs": [],
   "source": [
    "plt.hist(LayerActivationsHistory[0][7,:])"
   ]
  },
  {
   "cell_type": "code",
   "execution_count": null,
   "metadata": {},
   "outputs": [],
   "source": [
    "plt.hist(LayerActivationsHistory[0][8,:])"
   ]
  },
  {
   "cell_type": "code",
   "execution_count": null,
   "metadata": {},
   "outputs": [],
   "source": [
    "plt.hist(LayerActivationsHistory[0][9,:])"
   ]
  },
  {
   "cell_type": "code",
   "execution_count": null,
   "metadata": {},
   "outputs": [],
   "source": [
    "plt.hist(LayerActivationsHistory[0][10,:])"
   ]
  },
  {
   "cell_type": "code",
   "execution_count": null,
   "metadata": {},
   "outputs": [],
   "source": [
    "plt.hist(LayerActivationsHistory[0][11,:])"
   ]
  },
  {
   "cell_type": "code",
   "execution_count": null,
   "metadata": {},
   "outputs": [],
   "source": [
    "plt.hist(LayerActivationsHistory[0][12,:])"
   ]
  },
  {
   "cell_type": "code",
   "execution_count": null,
   "metadata": {},
   "outputs": [],
   "source": []
  },
  {
   "cell_type": "code",
   "execution_count": null,
   "metadata": {},
   "outputs": [],
   "source": []
  },
  {
   "cell_type": "code",
   "execution_count": null,
   "metadata": {},
   "outputs": [],
   "source": []
  }
 ],
 "metadata": {
  "kernelspec": {
   "display_name": "Python 3",
   "language": "python",
   "name": "python3"
  },
  "language_info": {
   "codemirror_mode": {
    "name": "ipython",
    "version": 3
   },
   "file_extension": ".py",
   "mimetype": "text/x-python",
   "name": "python",
   "nbconvert_exporter": "python",
   "pygments_lexer": "ipython3",
   "version": "3.7.0"
  }
 },
 "nbformat": 4,
 "nbformat_minor": 2
}
