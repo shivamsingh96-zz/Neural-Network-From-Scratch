{
 "cells": [
  {
   "cell_type": "code",
   "execution_count": 1,
   "metadata": {},
   "outputs": [],
   "source": [
    "import numpy as np\n",
    "import pandas as pd\n",
    "import matplotlib.pyplot as plt"
   ]
  },
  {
   "cell_type": "code",
   "execution_count": 2,
   "metadata": {},
   "outputs": [],
   "source": [
    "rawdata = pd.read_csv(\"kc_house_data.csv\")"
   ]
  },
  {
   "cell_type": "code",
   "execution_count": 3,
   "metadata": {},
   "outputs": [],
   "source": [
    "ones = pd.DataFrame(np.ones((rawdata.shape[0],1)),columns=[\"bias\"])"
   ]
  },
  {
   "cell_type": "code",
   "execution_count": 4,
   "metadata": {},
   "outputs": [],
   "source": [
    "rawdata = pd.concat([rawdata,ones],axis=1)"
   ]
  },
  {
   "cell_type": "code",
   "execution_count": 5,
   "metadata": {},
   "outputs": [
    {
     "data": {
      "text/plain": [
       "(21613, 22)"
      ]
     },
     "execution_count": 5,
     "metadata": {},
     "output_type": "execute_result"
    }
   ],
   "source": [
    "rawdata.shape"
   ]
  },
  {
   "cell_type": "code",
   "execution_count": 6,
   "metadata": {},
   "outputs": [
    {
     "data": {
      "text/html": [
       "<div>\n",
       "<style scoped>\n",
       "    .dataframe tbody tr th:only-of-type {\n",
       "        vertical-align: middle;\n",
       "    }\n",
       "\n",
       "    .dataframe tbody tr th {\n",
       "        vertical-align: top;\n",
       "    }\n",
       "\n",
       "    .dataframe thead th {\n",
       "        text-align: right;\n",
       "    }\n",
       "</style>\n",
       "<table border=\"1\" class=\"dataframe\">\n",
       "  <thead>\n",
       "    <tr style=\"text-align: right;\">\n",
       "      <th></th>\n",
       "      <th>id</th>\n",
       "      <th>date</th>\n",
       "      <th>price</th>\n",
       "      <th>bedrooms</th>\n",
       "      <th>bathrooms</th>\n",
       "      <th>sqft_living</th>\n",
       "      <th>sqft_lot</th>\n",
       "      <th>floors</th>\n",
       "      <th>waterfront</th>\n",
       "      <th>view</th>\n",
       "      <th>...</th>\n",
       "      <th>sqft_above</th>\n",
       "      <th>sqft_basement</th>\n",
       "      <th>yr_built</th>\n",
       "      <th>yr_renovated</th>\n",
       "      <th>zipcode</th>\n",
       "      <th>lat</th>\n",
       "      <th>long</th>\n",
       "      <th>sqft_living15</th>\n",
       "      <th>sqft_lot15</th>\n",
       "      <th>bias</th>\n",
       "    </tr>\n",
       "  </thead>\n",
       "  <tbody>\n",
       "    <tr>\n",
       "      <th>0</th>\n",
       "      <td>7129300520</td>\n",
       "      <td>20141013T000000</td>\n",
       "      <td>221900.0</td>\n",
       "      <td>3</td>\n",
       "      <td>1.00</td>\n",
       "      <td>1180</td>\n",
       "      <td>5650</td>\n",
       "      <td>1.0</td>\n",
       "      <td>0</td>\n",
       "      <td>0</td>\n",
       "      <td>...</td>\n",
       "      <td>1180</td>\n",
       "      <td>0</td>\n",
       "      <td>1955</td>\n",
       "      <td>0</td>\n",
       "      <td>98178</td>\n",
       "      <td>47.5112</td>\n",
       "      <td>-122.257</td>\n",
       "      <td>1340</td>\n",
       "      <td>5650</td>\n",
       "      <td>1.0</td>\n",
       "    </tr>\n",
       "    <tr>\n",
       "      <th>1</th>\n",
       "      <td>6414100192</td>\n",
       "      <td>20141209T000000</td>\n",
       "      <td>538000.0</td>\n",
       "      <td>3</td>\n",
       "      <td>2.25</td>\n",
       "      <td>2570</td>\n",
       "      <td>7242</td>\n",
       "      <td>2.0</td>\n",
       "      <td>0</td>\n",
       "      <td>0</td>\n",
       "      <td>...</td>\n",
       "      <td>2170</td>\n",
       "      <td>400</td>\n",
       "      <td>1951</td>\n",
       "      <td>1991</td>\n",
       "      <td>98125</td>\n",
       "      <td>47.7210</td>\n",
       "      <td>-122.319</td>\n",
       "      <td>1690</td>\n",
       "      <td>7639</td>\n",
       "      <td>1.0</td>\n",
       "    </tr>\n",
       "    <tr>\n",
       "      <th>2</th>\n",
       "      <td>5631500400</td>\n",
       "      <td>20150225T000000</td>\n",
       "      <td>180000.0</td>\n",
       "      <td>2</td>\n",
       "      <td>1.00</td>\n",
       "      <td>770</td>\n",
       "      <td>10000</td>\n",
       "      <td>1.0</td>\n",
       "      <td>0</td>\n",
       "      <td>0</td>\n",
       "      <td>...</td>\n",
       "      <td>770</td>\n",
       "      <td>0</td>\n",
       "      <td>1933</td>\n",
       "      <td>0</td>\n",
       "      <td>98028</td>\n",
       "      <td>47.7379</td>\n",
       "      <td>-122.233</td>\n",
       "      <td>2720</td>\n",
       "      <td>8062</td>\n",
       "      <td>1.0</td>\n",
       "    </tr>\n",
       "    <tr>\n",
       "      <th>3</th>\n",
       "      <td>2487200875</td>\n",
       "      <td>20141209T000000</td>\n",
       "      <td>604000.0</td>\n",
       "      <td>4</td>\n",
       "      <td>3.00</td>\n",
       "      <td>1960</td>\n",
       "      <td>5000</td>\n",
       "      <td>1.0</td>\n",
       "      <td>0</td>\n",
       "      <td>0</td>\n",
       "      <td>...</td>\n",
       "      <td>1050</td>\n",
       "      <td>910</td>\n",
       "      <td>1965</td>\n",
       "      <td>0</td>\n",
       "      <td>98136</td>\n",
       "      <td>47.5208</td>\n",
       "      <td>-122.393</td>\n",
       "      <td>1360</td>\n",
       "      <td>5000</td>\n",
       "      <td>1.0</td>\n",
       "    </tr>\n",
       "    <tr>\n",
       "      <th>4</th>\n",
       "      <td>1954400510</td>\n",
       "      <td>20150218T000000</td>\n",
       "      <td>510000.0</td>\n",
       "      <td>3</td>\n",
       "      <td>2.00</td>\n",
       "      <td>1680</td>\n",
       "      <td>8080</td>\n",
       "      <td>1.0</td>\n",
       "      <td>0</td>\n",
       "      <td>0</td>\n",
       "      <td>...</td>\n",
       "      <td>1680</td>\n",
       "      <td>0</td>\n",
       "      <td>1987</td>\n",
       "      <td>0</td>\n",
       "      <td>98074</td>\n",
       "      <td>47.6168</td>\n",
       "      <td>-122.045</td>\n",
       "      <td>1800</td>\n",
       "      <td>7503</td>\n",
       "      <td>1.0</td>\n",
       "    </tr>\n",
       "  </tbody>\n",
       "</table>\n",
       "<p>5 rows × 22 columns</p>\n",
       "</div>"
      ],
      "text/plain": [
       "           id             date     price  bedrooms  bathrooms  sqft_living  \\\n",
       "0  7129300520  20141013T000000  221900.0         3       1.00         1180   \n",
       "1  6414100192  20141209T000000  538000.0         3       2.25         2570   \n",
       "2  5631500400  20150225T000000  180000.0         2       1.00          770   \n",
       "3  2487200875  20141209T000000  604000.0         4       3.00         1960   \n",
       "4  1954400510  20150218T000000  510000.0         3       2.00         1680   \n",
       "\n",
       "   sqft_lot  floors  waterfront  view  ...   sqft_above  sqft_basement  \\\n",
       "0      5650     1.0           0     0  ...         1180              0   \n",
       "1      7242     2.0           0     0  ...         2170            400   \n",
       "2     10000     1.0           0     0  ...          770              0   \n",
       "3      5000     1.0           0     0  ...         1050            910   \n",
       "4      8080     1.0           0     0  ...         1680              0   \n",
       "\n",
       "   yr_built  yr_renovated  zipcode      lat     long  sqft_living15  \\\n",
       "0      1955             0    98178  47.5112 -122.257           1340   \n",
       "1      1951          1991    98125  47.7210 -122.319           1690   \n",
       "2      1933             0    98028  47.7379 -122.233           2720   \n",
       "3      1965             0    98136  47.5208 -122.393           1360   \n",
       "4      1987             0    98074  47.6168 -122.045           1800   \n",
       "\n",
       "   sqft_lot15  bias  \n",
       "0        5650   1.0  \n",
       "1        7639   1.0  \n",
       "2        8062   1.0  \n",
       "3        5000   1.0  \n",
       "4        7503   1.0  \n",
       "\n",
       "[5 rows x 22 columns]"
      ]
     },
     "execution_count": 6,
     "metadata": {},
     "output_type": "execute_result"
    }
   ],
   "source": [
    "rawdata.head()"
   ]
  },
  {
   "cell_type": "code",
   "execution_count": null,
   "metadata": {},
   "outputs": [],
   "source": []
  },
  {
   "cell_type": "code",
   "execution_count": 7,
   "metadata": {},
   "outputs": [
    {
     "data": {
      "text/plain": [
       "0        1.0\n",
       "1        1.0\n",
       "2        1.0\n",
       "3        1.0\n",
       "4        1.0\n",
       "5        1.0\n",
       "6        1.0\n",
       "7        1.0\n",
       "8        1.0\n",
       "9        1.0\n",
       "10       1.0\n",
       "11       1.0\n",
       "12       1.0\n",
       "13       1.0\n",
       "14       1.0\n",
       "15       1.0\n",
       "16       1.0\n",
       "17       1.0\n",
       "18       1.0\n",
       "19       1.0\n",
       "20       1.0\n",
       "21       1.0\n",
       "22       1.0\n",
       "23       1.0\n",
       "24       1.0\n",
       "25       1.0\n",
       "26       1.0\n",
       "27       1.0\n",
       "28       1.0\n",
       "29       1.0\n",
       "        ... \n",
       "21583    1.0\n",
       "21584    1.0\n",
       "21585    1.0\n",
       "21586    1.0\n",
       "21587    1.0\n",
       "21588    1.0\n",
       "21589    1.0\n",
       "21590    1.0\n",
       "21591    1.0\n",
       "21592    1.0\n",
       "21593    1.0\n",
       "21594    1.0\n",
       "21595    1.0\n",
       "21596    1.0\n",
       "21597    1.0\n",
       "21598    1.0\n",
       "21599    1.0\n",
       "21600    1.0\n",
       "21601    1.0\n",
       "21602    1.0\n",
       "21603    1.0\n",
       "21604    1.0\n",
       "21605    1.0\n",
       "21606    1.0\n",
       "21607    1.0\n",
       "21608    1.0\n",
       "21609    1.0\n",
       "21610    1.0\n",
       "21611    1.0\n",
       "21612    1.0\n",
       "Name: bias, Length: 21613, dtype: float64"
      ]
     },
     "execution_count": 7,
     "metadata": {},
     "output_type": "execute_result"
    }
   ],
   "source": [
    "rawdata['bias']"
   ]
  },
  {
   "cell_type": "code",
   "execution_count": 8,
   "metadata": {},
   "outputs": [],
   "source": [
    "droppedrawdata = rawdata.drop(['id','date','waterfront','view','yr_built','yr_renovated','zipcode','lat'],axis=1,inplace=False)"
   ]
  },
  {
   "cell_type": "code",
   "execution_count": 9,
   "metadata": {},
   "outputs": [
    {
     "data": {
      "text/html": [
       "<div>\n",
       "<style scoped>\n",
       "    .dataframe tbody tr th:only-of-type {\n",
       "        vertical-align: middle;\n",
       "    }\n",
       "\n",
       "    .dataframe tbody tr th {\n",
       "        vertical-align: top;\n",
       "    }\n",
       "\n",
       "    .dataframe thead th {\n",
       "        text-align: right;\n",
       "    }\n",
       "</style>\n",
       "<table border=\"1\" class=\"dataframe\">\n",
       "  <thead>\n",
       "    <tr style=\"text-align: right;\">\n",
       "      <th></th>\n",
       "      <th>price</th>\n",
       "      <th>bedrooms</th>\n",
       "      <th>bathrooms</th>\n",
       "      <th>sqft_living</th>\n",
       "      <th>sqft_lot</th>\n",
       "      <th>floors</th>\n",
       "      <th>condition</th>\n",
       "      <th>grade</th>\n",
       "      <th>sqft_above</th>\n",
       "      <th>sqft_basement</th>\n",
       "      <th>long</th>\n",
       "      <th>sqft_living15</th>\n",
       "      <th>sqft_lot15</th>\n",
       "      <th>bias</th>\n",
       "    </tr>\n",
       "  </thead>\n",
       "  <tbody>\n",
       "    <tr>\n",
       "      <th>0</th>\n",
       "      <td>221900.0</td>\n",
       "      <td>3</td>\n",
       "      <td>1.00</td>\n",
       "      <td>1180</td>\n",
       "      <td>5650</td>\n",
       "      <td>1.0</td>\n",
       "      <td>3</td>\n",
       "      <td>7</td>\n",
       "      <td>1180</td>\n",
       "      <td>0</td>\n",
       "      <td>-122.257</td>\n",
       "      <td>1340</td>\n",
       "      <td>5650</td>\n",
       "      <td>1.0</td>\n",
       "    </tr>\n",
       "    <tr>\n",
       "      <th>1</th>\n",
       "      <td>538000.0</td>\n",
       "      <td>3</td>\n",
       "      <td>2.25</td>\n",
       "      <td>2570</td>\n",
       "      <td>7242</td>\n",
       "      <td>2.0</td>\n",
       "      <td>3</td>\n",
       "      <td>7</td>\n",
       "      <td>2170</td>\n",
       "      <td>400</td>\n",
       "      <td>-122.319</td>\n",
       "      <td>1690</td>\n",
       "      <td>7639</td>\n",
       "      <td>1.0</td>\n",
       "    </tr>\n",
       "    <tr>\n",
       "      <th>2</th>\n",
       "      <td>180000.0</td>\n",
       "      <td>2</td>\n",
       "      <td>1.00</td>\n",
       "      <td>770</td>\n",
       "      <td>10000</td>\n",
       "      <td>1.0</td>\n",
       "      <td>3</td>\n",
       "      <td>6</td>\n",
       "      <td>770</td>\n",
       "      <td>0</td>\n",
       "      <td>-122.233</td>\n",
       "      <td>2720</td>\n",
       "      <td>8062</td>\n",
       "      <td>1.0</td>\n",
       "    </tr>\n",
       "    <tr>\n",
       "      <th>3</th>\n",
       "      <td>604000.0</td>\n",
       "      <td>4</td>\n",
       "      <td>3.00</td>\n",
       "      <td>1960</td>\n",
       "      <td>5000</td>\n",
       "      <td>1.0</td>\n",
       "      <td>5</td>\n",
       "      <td>7</td>\n",
       "      <td>1050</td>\n",
       "      <td>910</td>\n",
       "      <td>-122.393</td>\n",
       "      <td>1360</td>\n",
       "      <td>5000</td>\n",
       "      <td>1.0</td>\n",
       "    </tr>\n",
       "    <tr>\n",
       "      <th>4</th>\n",
       "      <td>510000.0</td>\n",
       "      <td>3</td>\n",
       "      <td>2.00</td>\n",
       "      <td>1680</td>\n",
       "      <td>8080</td>\n",
       "      <td>1.0</td>\n",
       "      <td>3</td>\n",
       "      <td>8</td>\n",
       "      <td>1680</td>\n",
       "      <td>0</td>\n",
       "      <td>-122.045</td>\n",
       "      <td>1800</td>\n",
       "      <td>7503</td>\n",
       "      <td>1.0</td>\n",
       "    </tr>\n",
       "  </tbody>\n",
       "</table>\n",
       "</div>"
      ],
      "text/plain": [
       "      price  bedrooms  bathrooms  sqft_living  sqft_lot  floors  condition  \\\n",
       "0  221900.0         3       1.00         1180      5650     1.0          3   \n",
       "1  538000.0         3       2.25         2570      7242     2.0          3   \n",
       "2  180000.0         2       1.00          770     10000     1.0          3   \n",
       "3  604000.0         4       3.00         1960      5000     1.0          5   \n",
       "4  510000.0         3       2.00         1680      8080     1.0          3   \n",
       "\n",
       "   grade  sqft_above  sqft_basement     long  sqft_living15  sqft_lot15  bias  \n",
       "0      7        1180              0 -122.257           1340        5650   1.0  \n",
       "1      7        2170            400 -122.319           1690        7639   1.0  \n",
       "2      6         770              0 -122.233           2720        8062   1.0  \n",
       "3      7        1050            910 -122.393           1360        5000   1.0  \n",
       "4      8        1680              0 -122.045           1800        7503   1.0  "
      ]
     },
     "execution_count": 9,
     "metadata": {},
     "output_type": "execute_result"
    }
   ],
   "source": [
    "droppedrawdata.head()"
   ]
  },
  {
   "cell_type": "code",
   "execution_count": 10,
   "metadata": {},
   "outputs": [
    {
     "data": {
      "text/plain": [
       "(21613, 14)"
      ]
     },
     "execution_count": 10,
     "metadata": {},
     "output_type": "execute_result"
    }
   ],
   "source": [
    "droppedrawdata.shape"
   ]
  },
  {
   "cell_type": "code",
   "execution_count": 11,
   "metadata": {},
   "outputs": [],
   "source": [
    "trainingdatasize = int(0.75*droppedrawdata.shape[0])"
   ]
  },
  {
   "cell_type": "code",
   "execution_count": 12,
   "metadata": {},
   "outputs": [
    {
     "data": {
      "text/plain": [
       "16209"
      ]
     },
     "execution_count": 12,
     "metadata": {},
     "output_type": "execute_result"
    }
   ],
   "source": [
    "trainingdatasize"
   ]
  },
  {
   "cell_type": "code",
   "execution_count": 13,
   "metadata": {},
   "outputs": [],
   "source": [
    "trainingdata = droppedrawdata.iloc[0:trainingdatasize,:]"
   ]
  },
  {
   "cell_type": "code",
   "execution_count": 14,
   "metadata": {},
   "outputs": [],
   "source": [
    "trainingdata = np.array(trainingdata)"
   ]
  },
  {
   "cell_type": "code",
   "execution_count": 15,
   "metadata": {},
   "outputs": [],
   "source": [
    "trainingdata = trainingdata/ trainingdata.max(axis = 0)"
   ]
  },
  {
   "cell_type": "code",
   "execution_count": 16,
   "metadata": {},
   "outputs": [],
   "source": [
    "trainingdata = pd.DataFrame(trainingdata)"
   ]
  },
  {
   "cell_type": "code",
   "execution_count": 17,
   "metadata": {},
   "outputs": [],
   "source": [
    "testingdata = droppedrawdata.iloc[trainingdatasize:,:]"
   ]
  },
  {
   "cell_type": "code",
   "execution_count": 18,
   "metadata": {},
   "outputs": [
    {
     "data": {
      "text/plain": [
       "(16209, 14)"
      ]
     },
     "execution_count": 18,
     "metadata": {},
     "output_type": "execute_result"
    }
   ],
   "source": [
    "trainingdata.shape"
   ]
  },
  {
   "cell_type": "code",
   "execution_count": 19,
   "metadata": {},
   "outputs": [
    {
     "data": {
      "text/plain": [
       "(5404, 14)"
      ]
     },
     "execution_count": 19,
     "metadata": {},
     "output_type": "execute_result"
    }
   ],
   "source": [
    "testingdata.shape"
   ]
  },
  {
   "cell_type": "code",
   "execution_count": 20,
   "metadata": {
    "scrolled": true
   },
   "outputs": [
    {
     "data": {
      "text/html": [
       "<div>\n",
       "<style scoped>\n",
       "    .dataframe tbody tr th:only-of-type {\n",
       "        vertical-align: middle;\n",
       "    }\n",
       "\n",
       "    .dataframe tbody tr th {\n",
       "        vertical-align: top;\n",
       "    }\n",
       "\n",
       "    .dataframe thead th {\n",
       "        text-align: right;\n",
       "    }\n",
       "</style>\n",
       "<table border=\"1\" class=\"dataframe\">\n",
       "  <thead>\n",
       "    <tr style=\"text-align: right;\">\n",
       "      <th></th>\n",
       "      <th>0</th>\n",
       "      <th>1</th>\n",
       "      <th>2</th>\n",
       "      <th>3</th>\n",
       "      <th>4</th>\n",
       "      <th>5</th>\n",
       "      <th>6</th>\n",
       "      <th>7</th>\n",
       "      <th>8</th>\n",
       "      <th>9</th>\n",
       "      <th>10</th>\n",
       "      <th>11</th>\n",
       "      <th>12</th>\n",
       "      <th>13</th>\n",
       "    </tr>\n",
       "  </thead>\n",
       "  <tbody>\n",
       "    <tr>\n",
       "      <th>0</th>\n",
       "      <td>0.028818</td>\n",
       "      <td>0.090909</td>\n",
       "      <td>0.12500</td>\n",
       "      <td>0.087149</td>\n",
       "      <td>0.003421</td>\n",
       "      <td>0.285714</td>\n",
       "      <td>0.6</td>\n",
       "      <td>0.538462</td>\n",
       "      <td>0.125399</td>\n",
       "      <td>0.000000</td>\n",
       "      <td>1.007765</td>\n",
       "      <td>0.219313</td>\n",
       "      <td>0.006485</td>\n",
       "      <td>1.0</td>\n",
       "    </tr>\n",
       "    <tr>\n",
       "      <th>1</th>\n",
       "      <td>0.069870</td>\n",
       "      <td>0.090909</td>\n",
       "      <td>0.28125</td>\n",
       "      <td>0.189808</td>\n",
       "      <td>0.004385</td>\n",
       "      <td>0.571429</td>\n",
       "      <td>0.6</td>\n",
       "      <td>0.538462</td>\n",
       "      <td>0.230606</td>\n",
       "      <td>0.082988</td>\n",
       "      <td>1.008276</td>\n",
       "      <td>0.276596</td>\n",
       "      <td>0.008768</td>\n",
       "      <td>1.0</td>\n",
       "    </tr>\n",
       "    <tr>\n",
       "      <th>2</th>\n",
       "      <td>0.023377</td>\n",
       "      <td>0.060606</td>\n",
       "      <td>0.12500</td>\n",
       "      <td>0.056869</td>\n",
       "      <td>0.006056</td>\n",
       "      <td>0.285714</td>\n",
       "      <td>0.6</td>\n",
       "      <td>0.461538</td>\n",
       "      <td>0.081828</td>\n",
       "      <td>0.000000</td>\n",
       "      <td>1.007567</td>\n",
       "      <td>0.445172</td>\n",
       "      <td>0.009254</td>\n",
       "      <td>1.0</td>\n",
       "    </tr>\n",
       "    <tr>\n",
       "      <th>3</th>\n",
       "      <td>0.078442</td>\n",
       "      <td>0.121212</td>\n",
       "      <td>0.37500</td>\n",
       "      <td>0.144756</td>\n",
       "      <td>0.003028</td>\n",
       "      <td>0.285714</td>\n",
       "      <td>1.0</td>\n",
       "      <td>0.538462</td>\n",
       "      <td>0.111583</td>\n",
       "      <td>0.188797</td>\n",
       "      <td>1.008886</td>\n",
       "      <td>0.222586</td>\n",
       "      <td>0.005739</td>\n",
       "      <td>1.0</td>\n",
       "    </tr>\n",
       "    <tr>\n",
       "      <th>4</th>\n",
       "      <td>0.066234</td>\n",
       "      <td>0.090909</td>\n",
       "      <td>0.25000</td>\n",
       "      <td>0.124077</td>\n",
       "      <td>0.004893</td>\n",
       "      <td>0.285714</td>\n",
       "      <td>0.6</td>\n",
       "      <td>0.615385</td>\n",
       "      <td>0.178533</td>\n",
       "      <td>0.000000</td>\n",
       "      <td>1.006017</td>\n",
       "      <td>0.294599</td>\n",
       "      <td>0.008612</td>\n",
       "      <td>1.0</td>\n",
       "    </tr>\n",
       "  </tbody>\n",
       "</table>\n",
       "</div>"
      ],
      "text/plain": [
       "         0         1        2         3         4         5    6         7   \\\n",
       "0  0.028818  0.090909  0.12500  0.087149  0.003421  0.285714  0.6  0.538462   \n",
       "1  0.069870  0.090909  0.28125  0.189808  0.004385  0.571429  0.6  0.538462   \n",
       "2  0.023377  0.060606  0.12500  0.056869  0.006056  0.285714  0.6  0.461538   \n",
       "3  0.078442  0.121212  0.37500  0.144756  0.003028  0.285714  1.0  0.538462   \n",
       "4  0.066234  0.090909  0.25000  0.124077  0.004893  0.285714  0.6  0.615385   \n",
       "\n",
       "         8         9         10        11        12   13  \n",
       "0  0.125399  0.000000  1.007765  0.219313  0.006485  1.0  \n",
       "1  0.230606  0.082988  1.008276  0.276596  0.008768  1.0  \n",
       "2  0.081828  0.000000  1.007567  0.445172  0.009254  1.0  \n",
       "3  0.111583  0.188797  1.008886  0.222586  0.005739  1.0  \n",
       "4  0.178533  0.000000  1.006017  0.294599  0.008612  1.0  "
      ]
     },
     "execution_count": 20,
     "metadata": {},
     "output_type": "execute_result"
    }
   ],
   "source": [
    "trainingdata.head()"
   ]
  },
  {
   "cell_type": "code",
   "execution_count": 21,
   "metadata": {},
   "outputs": [],
   "source": [
    "labels = trainingdata[0]  #price column = 0"
   ]
  },
  {
   "cell_type": "code",
   "execution_count": 22,
   "metadata": {},
   "outputs": [],
   "source": [
    "inputtrainingdata = trainingdata.drop([0],axis=1,inplace=False)"
   ]
  },
  {
   "cell_type": "code",
   "execution_count": 23,
   "metadata": {},
   "outputs": [
    {
     "data": {
      "text/plain": [
       "(16209, 13)"
      ]
     },
     "execution_count": 23,
     "metadata": {},
     "output_type": "execute_result"
    }
   ],
   "source": [
    "inputtrainingdata.shape"
   ]
  },
  {
   "cell_type": "code",
   "execution_count": 24,
   "metadata": {},
   "outputs": [
    {
     "data": {
      "text/html": [
       "<div>\n",
       "<style scoped>\n",
       "    .dataframe tbody tr th:only-of-type {\n",
       "        vertical-align: middle;\n",
       "    }\n",
       "\n",
       "    .dataframe tbody tr th {\n",
       "        vertical-align: top;\n",
       "    }\n",
       "\n",
       "    .dataframe thead th {\n",
       "        text-align: right;\n",
       "    }\n",
       "</style>\n",
       "<table border=\"1\" class=\"dataframe\">\n",
       "  <thead>\n",
       "    <tr style=\"text-align: right;\">\n",
       "      <th></th>\n",
       "      <th>1</th>\n",
       "      <th>2</th>\n",
       "      <th>3</th>\n",
       "      <th>4</th>\n",
       "      <th>5</th>\n",
       "      <th>6</th>\n",
       "      <th>7</th>\n",
       "      <th>8</th>\n",
       "      <th>9</th>\n",
       "      <th>10</th>\n",
       "      <th>11</th>\n",
       "      <th>12</th>\n",
       "      <th>13</th>\n",
       "    </tr>\n",
       "  </thead>\n",
       "  <tbody>\n",
       "    <tr>\n",
       "      <th>0</th>\n",
       "      <td>0.090909</td>\n",
       "      <td>0.12500</td>\n",
       "      <td>0.087149</td>\n",
       "      <td>0.003421</td>\n",
       "      <td>0.285714</td>\n",
       "      <td>0.6</td>\n",
       "      <td>0.538462</td>\n",
       "      <td>0.125399</td>\n",
       "      <td>0.000000</td>\n",
       "      <td>1.007765</td>\n",
       "      <td>0.219313</td>\n",
       "      <td>0.006485</td>\n",
       "      <td>1.0</td>\n",
       "    </tr>\n",
       "    <tr>\n",
       "      <th>1</th>\n",
       "      <td>0.090909</td>\n",
       "      <td>0.28125</td>\n",
       "      <td>0.189808</td>\n",
       "      <td>0.004385</td>\n",
       "      <td>0.571429</td>\n",
       "      <td>0.6</td>\n",
       "      <td>0.538462</td>\n",
       "      <td>0.230606</td>\n",
       "      <td>0.082988</td>\n",
       "      <td>1.008276</td>\n",
       "      <td>0.276596</td>\n",
       "      <td>0.008768</td>\n",
       "      <td>1.0</td>\n",
       "    </tr>\n",
       "    <tr>\n",
       "      <th>2</th>\n",
       "      <td>0.060606</td>\n",
       "      <td>0.12500</td>\n",
       "      <td>0.056869</td>\n",
       "      <td>0.006056</td>\n",
       "      <td>0.285714</td>\n",
       "      <td>0.6</td>\n",
       "      <td>0.461538</td>\n",
       "      <td>0.081828</td>\n",
       "      <td>0.000000</td>\n",
       "      <td>1.007567</td>\n",
       "      <td>0.445172</td>\n",
       "      <td>0.009254</td>\n",
       "      <td>1.0</td>\n",
       "    </tr>\n",
       "    <tr>\n",
       "      <th>3</th>\n",
       "      <td>0.121212</td>\n",
       "      <td>0.37500</td>\n",
       "      <td>0.144756</td>\n",
       "      <td>0.003028</td>\n",
       "      <td>0.285714</td>\n",
       "      <td>1.0</td>\n",
       "      <td>0.538462</td>\n",
       "      <td>0.111583</td>\n",
       "      <td>0.188797</td>\n",
       "      <td>1.008886</td>\n",
       "      <td>0.222586</td>\n",
       "      <td>0.005739</td>\n",
       "      <td>1.0</td>\n",
       "    </tr>\n",
       "    <tr>\n",
       "      <th>4</th>\n",
       "      <td>0.090909</td>\n",
       "      <td>0.25000</td>\n",
       "      <td>0.124077</td>\n",
       "      <td>0.004893</td>\n",
       "      <td>0.285714</td>\n",
       "      <td>0.6</td>\n",
       "      <td>0.615385</td>\n",
       "      <td>0.178533</td>\n",
       "      <td>0.000000</td>\n",
       "      <td>1.006017</td>\n",
       "      <td>0.294599</td>\n",
       "      <td>0.008612</td>\n",
       "      <td>1.0</td>\n",
       "    </tr>\n",
       "  </tbody>\n",
       "</table>\n",
       "</div>"
      ],
      "text/plain": [
       "         1        2         3         4         5    6         7         8   \\\n",
       "0  0.090909  0.12500  0.087149  0.003421  0.285714  0.6  0.538462  0.125399   \n",
       "1  0.090909  0.28125  0.189808  0.004385  0.571429  0.6  0.538462  0.230606   \n",
       "2  0.060606  0.12500  0.056869  0.006056  0.285714  0.6  0.461538  0.081828   \n",
       "3  0.121212  0.37500  0.144756  0.003028  0.285714  1.0  0.538462  0.111583   \n",
       "4  0.090909  0.25000  0.124077  0.004893  0.285714  0.6  0.615385  0.178533   \n",
       "\n",
       "         9         10        11        12   13  \n",
       "0  0.000000  1.007765  0.219313  0.006485  1.0  \n",
       "1  0.082988  1.008276  0.276596  0.008768  1.0  \n",
       "2  0.000000  1.007567  0.445172  0.009254  1.0  \n",
       "3  0.188797  1.008886  0.222586  0.005739  1.0  \n",
       "4  0.000000  1.006017  0.294599  0.008612  1.0  "
      ]
     },
     "execution_count": 24,
     "metadata": {},
     "output_type": "execute_result"
    }
   ],
   "source": [
    "inputtrainingdata.head()"
   ]
  },
  {
   "cell_type": "markdown",
   "metadata": {},
   "source": [
    "We are going to create a Neural Network having two hidden layers and 0th Layer consists of 12 dimensional feature vector. 1st Layer(1st Hidden Layer) consists of 12 neurons. 2nd Layer(2nd Hidden Layer) consists of 12 neurons. The output layer(3rd Layer) consists of a single neuron outputting the result of the prediction.   "
   ]
  },
  {
   "cell_type": "markdown",
   "metadata": {},
   "source": [
    "As there are 12 neurons in the first layer of the neural network and Each neuron in the first hidden layer is accepting Activations from all the neurons of the input layer(values of a 12 dimensional feature vector which we are going to name as 'Activations1' in our code). So, for each neuron in the first hidden layer, we will be having 12 synaptic weights. Therefore, if we put the synaptic weights of received activations of one neuron in first hidden layer vertically (a column) and stack them up horizontally from left to right, we get synaptic weight matrix of 12X12. We are going to name that matrix as 'Theta1old' in our code. So, our matrix is going to be: \n",
    "\n",
    "$\\theta^{[1]}_{old} = \\begin{bmatrix}\\theta^{[1]}_{0 old} & \\theta^{[1]}_{1 old}\\cdots & \\theta^{[1]}_{j old}\\cdots & \\theta^{[1]}_{11 old}\\end{bmatrix}$\n",
    "\n",
    "Where, \n",
    "\n",
    "$\\theta^{[1]}_{j old} = \\begin{bmatrix}\\theta^{[1]}_{0j old} \\\\ \\theta^{[1]}_{1j old} \\\\ \\theta^{[1]}_{2j old} \\\\ \\theta^{[1]}_{3j old} \\\\ \\theta^{[1]}_{4j old} \\\\ \\theta^{[1]}_{5j old} \\\\ \\theta^{[1]}_{6j old} \\\\ \\theta^{[1]}_{7j old} \\\\ \\theta^{[1]}_{8j old} \\\\ \\theta^{[1]}_{9j old} \\\\ \\theta^{[1]}_{10j old} \\\\ \\theta^{[1]}_{11j old}\\end{bmatrix}$\n",
    "\n",
    "for any jth neuron in the first hidden layer, [1] \n",
    "\n",
    "Therefore, \n",
    "\n",
    "$\\theta^{[1]}_{old} = \\begin{bmatrix}\\theta^{[1]}_{0 old} & \\theta^{[1]}_{1 old}\\cdots & \\theta^{[1]}_{j old}\\cdots & \\theta^{[1]}_{11 old}\\end{bmatrix} = \\begin{bmatrix}\\theta^{[1]}_{00 old} & \\theta^{[1]}_{01 old}\\cdots & \\theta^{[1]}_{0jold}\\cdots & \\theta^{[1]}_{011 old} \\\\ \\theta^{[1]}_{10 old} \\\\ \\theta^{[1]}_{i0 old} \\\\ \\cdots \\\\ \\theta^{[1]}_{110 old} & \\theta^{[1]}_{111 old} & \\cdots & \\theta^{[1]}_{11j old} \\cdots & \\theta^{[1]}_{1111 old}\\end{bmatrix}$"
   ]
  },
  {
   "cell_type": "code",
   "execution_count": 25,
   "metadata": {},
   "outputs": [],
   "source": [
    "def Activationfunction(x):\n",
    "    \n",
    "    #return 1/(1+np.exp(-x))\n",
    "    return x"
   ]
  },
  {
   "cell_type": "code",
   "execution_count": 26,
   "metadata": {},
   "outputs": [],
   "source": [
    "def ForwardpassActivations(featurevector,thetas):\n",
    "    \n",
    "    Activations1 = Activationfunction(np.matmul(featurevector,thetas[0]))\n",
    "    Activations2 = Activationfunction(np.matmul(Activations1,thetas[1]))\n",
    "    Activation3op = Activationfunction(np.matmul(Activations2,thetas[2]))\n",
    "    \n",
    "    return [featurevector,Activations1,Activations2,Activation3op]"
   ]
  },
  {
   "cell_type": "code",
   "execution_count": 33,
   "metadata": {},
   "outputs": [],
   "source": [
    "Theta1old = np.random.randn(13,inputtrainingdata.shape[1])\n",
    "Theta2old = np.random.randn(13,13)\n",
    "Theta3old = np.random.randn(13,1)\n",
    "\n",
    "Lossfunctionvalues = []\n",
    "iterations = []\n",
    "\n",
    "alpha = 0.0001\n",
    "batchsize = 500\n",
    "epochs = 10000\n",
    "\n",
    "for i in range(0,epochs):\n",
    "    \n",
    "    thetasold = [Theta1old,Theta2old,Theta3old]\n",
    "    \n",
    "    batchindices = np.random.randint(low=0,high=trainingdatasize,size=batchsize)\n",
    "    inputdatainepoch = np.array(inputtrainingdata.iloc[batchindices])\n",
    "    Forwardpassresults = ForwardpassActivations(inputdatainepoch,thetasold)\n",
    "    \n",
    "    #print(Forwardpassresults[0].shape,Forwardpassresults[1].shape,Forwardpassresults[2].shape,Forwardpassresults[3].shape)\n",
    "    \n",
    "    Error = Forwardpassresults[3] - np.array(labels[batchindices])\n",
    "    Lossfunctionvalue = 0.5*np.mean((Error**2))\n",
    "    bproperror = np.mean(Error)\n",
    "    \n",
    "    Lossfunctionvalues.append(Lossfunctionvalue)\n",
    "    iterations.append((i+1))\n",
    "    \n",
    "    #print(Lossfunctionvalue)\n",
    "    \n",
    "    Delforward1 = np.mean(Forwardpassresults[0],axis=0)\n",
    "    Delforward2 = np.mean(Forwardpassresults[1],axis=0)\n",
    "    Delforward3 = np.mean(Forwardpassresults[2],axis=0)\n",
    "    \n",
    "    Delforward1 = Delforward1.reshape(13,1)\n",
    "    Delforward2 = Delforward2.reshape(13,1)\n",
    "    Delforward3 = Delforward3.reshape(13,1)\n",
    "    #print(Delforward1.shape,Delforward2.shape,Delforward3.shape)\n",
    "    #print(Theta3old.shape,Delreverse3.shape,Delreverse3)\n",
    "    \n",
    "    Delreverse3 = bproperror\n",
    "    Delreverse3 = Delreverse3.reshape(1,1)\n",
    "    #print(Delreverse3)\n",
    "    Delreverse2 = np.matmul(Theta3old,Delreverse3)\n",
    "    #Delreverse2 = Theta3old*Delreverse3\n",
    "    Delreverse1 = np.matmul(Theta2old,Delreverse2)\n",
    "    \n",
    "    #print([Delreverse3.shape,Delforward3.shape], [Delreverse2.shape,Delforward2.shape], [Delreverse1.shape,Delforward1.shape])\n",
    "    \n",
    "    #Delforward3 = Delforward3.reshape(13,1)\n",
    "    #Delreverse3 = Delreverse3.reshape(1,1)\n",
    "    \n",
    "    Theta3new = Theta3old - alpha*(np.matmul(Delforward3,Delreverse3))\n",
    "    Theta2new = Theta2old - alpha*(np.matmul(Delreverse2,Delforward2.T))\n",
    "    Theta1new = Theta1old - alpha*(np.matmul(Delreverse1,Delforward1.T))\n",
    "    \n",
    "    Theta1old = Theta1new\n",
    "    Theta2old = Theta2new\n",
    "    Theta3old = Theta3new\n",
    "    \n",
    "   # print(\"The value of the Loss Function at iteration number {} is {}\".format((i+1),Lossfunctionvalue))"
   ]
  },
  {
   "cell_type": "code",
   "execution_count": 34,
   "metadata": {},
   "outputs": [
    {
     "data": {
      "text/plain": [
       "[<matplotlib.lines.Line2D at 0x1e8d217cc18>]"
      ]
     },
     "execution_count": 34,
     "metadata": {},
     "output_type": "execute_result"
    },
    {
     "data": {
      "image/png": "[encoded data removed]",
      "text/plain": [
       "<Figure size 432x288 with 1 Axes>"
      ]
     },
     "metadata": {
      "needs_background": "light"
     },
     "output_type": "display_data"
    }
   ],
   "source": [
    "plt.plot(iterations,Lossfunctionvalues)"
   ]
  },
  {
   "cell_type": "code",
   "execution_count": 35,
   "metadata": {},
   "outputs": [
    {
     "name": "stdout",
     "output_type": "stream",
     "text": [
      "The value of the Loss Function at iteration number 10000 is 6.771012235293609\n"
     ]
    }
   ],
   "source": [
    "print(\"The value of the Loss Function at iteration number {} is {}\".format((i+1),Lossfunctionvalue))"
   ]
  },
  {
   "cell_type": "code",
   "execution_count": null,
   "metadata": {},
   "outputs": [],
   "source": []
  }
 ],
 "metadata": {
  "kernelspec": {
   "display_name": "Python 3",
   "language": "python",
   "name": "python3"
  },
  "language_info": {
   "codemirror_mode": {
    "name": "ipython",
    "version": 3
   },
   "file_extension": ".py",
   "mimetype": "text/x-python",
   "name": "python",
   "nbconvert_exporter": "python",
   "pygments_lexer": "ipython3",
   "version": "3.7.0"
  }
 },
 "nbformat": 4,
 "nbformat_minor": 2
}
